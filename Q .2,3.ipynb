{
 "cells": [
  {
   "cell_type": "code",
   "execution_count": null,
   "id": "834c1164-7edf-4bbe-a3d1-6b033e989495",
   "metadata": {},
   "outputs": [],
   "source": [
    "##Q.2 A little bit of a puzzle:\n",
    "\n",
    "def mysterious_function(n): if n <= 1: return 1 return n * mysterious_function(n - 1)\n",
    "\n",
    "What does the mysterious_function do? Write a function that gives the same result, but using a for loop."
   ]
  },
  {
   "cell_type": "code",
   "execution_count": 6,
   "id": "90e2d111-298d-4c5c-869f-2f7d310c2022",
   "metadata": {},
   "outputs": [
    {
     "name": "stdout",
     "output_type": "stream",
     "text": [
      "120\n"
     ]
    }
   ],
   "source": [
    "def mysterious_function(n):\n",
    "    if n <= 1:\n",
    "        return 1\n",
    "    return n * mysterious_function(n - 1)\n",
    "def factorial(n):\n",
    "    result = 1\n",
    "    for i in range(2, n + 1):\n",
    "        result *= i\n",
    "    return result\n",
    "\n",
    "print(factorial(5)) "
   ]
  },
  {
   "cell_type": "code",
   "execution_count": null,
   "id": "31d1fd33-62a7-4a19-9b99-dc30e84ab6c2",
   "metadata": {},
   "outputs": [],
   "source": [
    "## Q.3 Write a function that takes a string of mixed letters and digits, and returns a list of the words (groups of letters) and numbers (group of digits) of the string. For instance, the string \"Nobody0expects42the2048Spanish1492Inquisition!\" should give [ \"Nobody\" , 0 , \"expects\" , 42 , \"the\" , 2048 , \"Spanish\" , 1492 , \"Inquisition!\" ]"
   ]
  },
  {
   "cell_type": "code",
   "execution_count": 5,
   "id": "cbde4e86-0543-4beb-b17f-5d839d2ab3e5",
   "metadata": {},
   "outputs": [
    {
     "name": "stdout",
     "output_type": "stream",
     "text": [
      "['Nobody', 0, 'expects', 42, 'the', 2048, 'Spanish', 1492, 'Inquisition', '!']\n"
     ]
    }
   ],
   "source": [
    "import re\n",
    "\n",
    "def split_string(s):\n",
    "    parts = re.findall(r'\\d+|[a-zA-Z]+|[^a-zA-Z\\d]+', s)\n",
    "\n",
    "    result = [int(part) if part.isdigit() else part for part in parts]\n",
    "\n",
    "    return result\n",
    "x = \"Nobody0expects42the2048Spanish1492Inquisition!\"\n",
    "print(split_string(x))"
   ]
  },
  {
   "cell_type": "code",
   "execution_count": null,
   "id": "33de9bc3-340c-43e8-913f-8c9cbf46a4e4",
   "metadata": {},
   "outputs": [],
   "source": []
  }
 ],
 "metadata": {
  "kernelspec": {
   "display_name": "Python 3 (ipykernel)",
   "language": "python",
   "name": "python3"
  },
  "language_info": {
   "codemirror_mode": {
    "name": "ipython",
    "version": 3
   },
   "file_extension": ".py",
   "mimetype": "text/x-python",
   "name": "python",
   "nbconvert_exporter": "python",
   "pygments_lexer": "ipython3",
   "version": "3.12.3"
  }
 },
 "nbformat": 4,
 "nbformat_minor": 5
}
