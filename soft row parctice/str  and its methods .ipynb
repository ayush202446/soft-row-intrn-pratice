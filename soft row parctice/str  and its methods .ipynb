{
 "cells": [
  {
   "cell_type": "markdown",
   "id": "d5ead320",
   "metadata": {},
   "source": [
    "# string\n",
    "    immuutable data type\n",
    "        --> we can not update or do any changes in original object\n",
    "    \n",
    "    --> ''\n",
    "        \"\"--> single line string\n",
    "        \"\"\"\"\"\",'''''' --> multiline string\n",
    "        \n",
    "        "
   ]
  },
  {
   "cell_type": "code",
   "execution_count": 1,
   "id": "b54f5ec5",
   "metadata": {},
   "outputs": [],
   "source": [
    "a = 'this is python first class '"
   ]
  },
  {
   "cell_type": "code",
   "execution_count": 2,
   "id": "e73da77f",
   "metadata": {},
   "outputs": [
    {
     "data": {
      "text/plain": [
       "'this is python first class '"
      ]
     },
     "execution_count": 2,
     "metadata": {},
     "output_type": "execute_result"
    }
   ],
   "source": [
    "a"
   ]
  },
  {
   "cell_type": "code",
   "execution_count": 3,
   "id": "2bb6ee19",
   "metadata": {},
   "outputs": [
    {
     "name": "stdout",
     "output_type": "stream",
     "text": [
      "this is python first class \n"
     ]
    }
   ],
   "source": [
    "print(a)"
   ]
  },
  {
   "cell_type": "code",
   "execution_count": 4,
   "id": "9116270b",
   "metadata": {},
   "outputs": [
    {
     "ename": "SyntaxError",
     "evalue": "invalid syntax (3730382321.py, line 1)",
     "output_type": "error",
     "traceback": [
      "\u001b[1;36m  File \u001b[1;32m\"C:\\Users\\Gaurav Nagda\\AppData\\Local\\Temp\\ipykernel_27596\\3730382321.py\"\u001b[1;36m, line \u001b[1;32m1\u001b[0m\n\u001b[1;33m    a = This is python first class\u001b[0m\n\u001b[1;37m                       ^\u001b[0m\n\u001b[1;31mSyntaxError\u001b[0m\u001b[1;31m:\u001b[0m invalid syntax\n"
     ]
    }
   ],
   "source": [
    "a = This is python first class"
   ]
  },
  {
   "cell_type": "code",
   "execution_count": 5,
   "id": "fb685686",
   "metadata": {},
   "outputs": [],
   "source": [
    "str =\"hello world this is python class\" "
   ]
  },
  {
   "cell_type": "code",
   "execution_count": 6,
   "id": "4aee7621",
   "metadata": {},
   "outputs": [
    {
     "name": "stdout",
     "output_type": "stream",
     "text": [
      "hello world this is python class\n"
     ]
    }
   ],
   "source": [
    "print(str)"
   ]
  },
  {
   "cell_type": "code",
   "execution_count": 1,
   "id": "085abc88",
   "metadata": {},
   "outputs": [],
   "source": [
    "a = 10"
   ]
  },
  {
   "cell_type": "code",
   "execution_count": 2,
   "id": "98ce1b3d",
   "metadata": {},
   "outputs": [
    {
     "data": {
      "text/plain": [
       "'10'"
      ]
     },
     "execution_count": 2,
     "metadata": {},
     "output_type": "execute_result"
    }
   ],
   "source": [
    "str(a)"
   ]
  },
  {
   "cell_type": "code",
   "execution_count": 3,
   "id": "449103a0",
   "metadata": {},
   "outputs": [],
   "source": [
    "hey = \"hello ,how are you\""
   ]
  },
  {
   "cell_type": "code",
   "execution_count": 4,
   "id": "3e24891d",
   "metadata": {},
   "outputs": [
    {
     "data": {
      "text/plain": [
       "'hello ,how are you'"
      ]
     },
     "execution_count": 4,
     "metadata": {},
     "output_type": "execute_result"
    }
   ],
   "source": [
    "hey"
   ]
  },
  {
   "cell_type": "code",
   "execution_count": 28,
   "id": "ce4ef6d6",
   "metadata": {},
   "outputs": [
    {
     "name": "stdout",
     "output_type": "stream",
     "text": [
      "Enter any number10\n"
     ]
    }
   ],
   "source": [
    "user = input(\"Enter any number\")"
   ]
  },
  {
   "cell_type": "code",
   "execution_count": 29,
   "id": "62f19095",
   "metadata": {},
   "outputs": [
    {
     "name": "stdout",
     "output_type": "stream",
     "text": [
      "10\n"
     ]
    }
   ],
   "source": [
    "print(user)"
   ]
  },
  {
   "cell_type": "code",
   "execution_count": 30,
   "id": "2114cceb",
   "metadata": {},
   "outputs": [
    {
     "name": "stdout",
     "output_type": "stream",
     "text": [
      "Enter a number :-> 10\n",
      "Enter b number :-> 20\n",
      "1020\n"
     ]
    }
   ],
   "source": [
    "a = input('Enter a number :-> ')\n",
    "b = input('Enter b number :-> ')\n",
    "res = a+b\n",
    "print(res)"
   ]
  },
  {
   "cell_type": "code",
   "execution_count": 31,
   "id": "03f15ddf",
   "metadata": {},
   "outputs": [
    {
     "name": "stdout",
     "output_type": "stream",
     "text": [
      "<class 'str'>\n"
     ]
    }
   ],
   "source": [
    "print(type(a))"
   ]
  },
  {
   "cell_type": "code",
   "execution_count": 32,
   "id": "15319d2c",
   "metadata": {},
   "outputs": [
    {
     "name": "stdout",
     "output_type": "stream",
     "text": [
      "<class 'str'>\n"
     ]
    }
   ],
   "source": [
    "print(type(b))"
   ]
  },
  {
   "cell_type": "code",
   "execution_count": 33,
   "id": "99488f48",
   "metadata": {},
   "outputs": [
    {
     "data": {
      "text/plain": [
       "'1020'"
      ]
     },
     "execution_count": 33,
     "metadata": {},
     "output_type": "execute_result"
    }
   ],
   "source": [
    "\"10\"+\"20\""
   ]
  },
  {
   "cell_type": "code",
   "execution_count": 34,
   "id": "fe9aa2dd",
   "metadata": {},
   "outputs": [
    {
     "data": {
      "text/plain": [
       "<bound method Kernel.raw_input of <ipykernel.ipkernel.IPythonKernel object at 0x0000021D5B4C6AF0>>"
      ]
     },
     "execution_count": 34,
     "metadata": {},
     "output_type": "execute_result"
    }
   ],
   "source": [
    "input"
   ]
  },
  {
   "cell_type": "code",
   "execution_count": 63,
   "id": "53a8b72c",
   "metadata": {},
   "outputs": [],
   "source": [
    "a = 'hello this is Python'\n",
    "b = a.lower()"
   ]
  },
  {
   "cell_type": "code",
   "execution_count": 64,
   "id": "9f453fb0",
   "metadata": {},
   "outputs": [
    {
     "name": "stdout",
     "output_type": "stream",
     "text": [
      "hello this is Python\n"
     ]
    }
   ],
   "source": [
    "print(a)"
   ]
  },
  {
   "cell_type": "code",
   "execution_count": 65,
   "id": "e58bd1c7",
   "metadata": {},
   "outputs": [
    {
     "name": "stdout",
     "output_type": "stream",
     "text": [
      "hello this is python\n"
     ]
    }
   ],
   "source": [
    "print(b)"
   ]
  },
  {
   "cell_type": "code",
   "execution_count": 42,
   "id": "23009308",
   "metadata": {},
   "outputs": [],
   "source": [
    "s = '                          hello python      '"
   ]
  },
  {
   "cell_type": "code",
   "execution_count": 43,
   "id": "4fd3e988",
   "metadata": {},
   "outputs": [
    {
     "data": {
      "text/plain": [
       "'hello python      '"
      ]
     },
     "execution_count": 43,
     "metadata": {},
     "output_type": "execute_result"
    }
   ],
   "source": [
    "s.lstrip()"
   ]
  },
  {
   "cell_type": "markdown",
   "id": "fe9061f7",
   "metadata": {},
   "source": [
    "# rstrip"
   ]
  },
  {
   "cell_type": "code",
   "execution_count": 44,
   "id": "b46d8c8a",
   "metadata": {},
   "outputs": [],
   "source": [
    "s = 'hello                           '"
   ]
  },
  {
   "cell_type": "code",
   "execution_count": 45,
   "id": "82a38871",
   "metadata": {},
   "outputs": [
    {
     "data": {
      "text/plain": [
       "'hello'"
      ]
     },
     "execution_count": 45,
     "metadata": {},
     "output_type": "execute_result"
    }
   ],
   "source": [
    "s.rstrip()"
   ]
  },
  {
   "cell_type": "markdown",
   "id": "30eba6b5",
   "metadata": {},
   "source": [
    "#   \n",
    "    'rsplit', \n",
    "     'split',\n",
    "     'splitlines',\n",
    "     '\n",
    "     "
   ]
  },
  {
   "cell_type": "code",
   "execution_count": 54,
   "id": "3fcee359",
   "metadata": {},
   "outputs": [],
   "source": [
    "s = 'hello /python/ this is true '"
   ]
  },
  {
   "cell_type": "code",
   "execution_count": 55,
   "id": "6b4de2f4",
   "metadata": {},
   "outputs": [
    {
     "data": {
      "text/plain": [
       "['hello ', 'python', ' this is true ']"
      ]
     },
     "execution_count": 55,
     "metadata": {},
     "output_type": "execute_result"
    }
   ],
   "source": [
    "s.split(\"/\")"
   ]
  },
  {
   "cell_type": "code",
   "execution_count": 118,
   "id": "165f3f24",
   "metadata": {},
   "outputs": [
    {
     "data": {
      "text/plain": [
       "False"
      ]
     },
     "execution_count": 118,
     "metadata": {},
     "output_type": "execute_result"
    }
   ],
   "source": [
    "s.isdecimal()"
   ]
  },
  {
   "cell_type": "code",
   "execution_count": 127,
   "id": "0f8d5179",
   "metadata": {},
   "outputs": [],
   "source": [
    "s = \"name123\""
   ]
  },
  {
   "cell_type": "code",
   "execution_count": 128,
   "id": "103b02c7",
   "metadata": {},
   "outputs": [
    {
     "data": {
      "text/plain": [
       "True"
      ]
     },
     "execution_count": 128,
     "metadata": {},
     "output_type": "execute_result"
    }
   ],
   "source": [
    "s.isidentifier()"
   ]
  },
  {
   "cell_type": "code",
   "execution_count": 132,
   "id": "3e09a427",
   "metadata": {},
   "outputs": [],
   "source": [
    "name1234 = 'gaurav'"
   ]
  },
  {
   "cell_type": "code",
   "execution_count": 135,
   "id": "1ca35639",
   "metadata": {},
   "outputs": [],
   "source": [
    "s = 'hello python this is great'"
   ]
  },
  {
   "cell_type": "code",
   "execution_count": 136,
   "id": "0e7309d7",
   "metadata": {},
   "outputs": [
    {
     "data": {
      "text/plain": [
       "True"
      ]
     },
     "execution_count": 136,
     "metadata": {},
     "output_type": "execute_result"
    }
   ],
   "source": [
    "s.islower()"
   ]
  },
  {
   "cell_type": "code",
   "execution_count": 164,
   "id": "08f79c11",
   "metadata": {},
   "outputs": [
    {
     "data": {
      "text/plain": [
       "True"
      ]
     },
     "execution_count": 164,
     "metadata": {},
     "output_type": "execute_result"
    }
   ],
   "source": [
    "s.isspace()"
   ]
  },
  {
   "cell_type": "code",
   "execution_count": 158,
   "id": "6838f86c",
   "metadata": {},
   "outputs": [
    {
     "name": "stdout",
     "output_type": "stream",
     "text": [
      "Help on built-in function isspace:\n",
      "\n",
      "isspace() method of builtins.str instance\n",
      "    Return True if the string is a whitespace string, False otherwise.\n",
      "    \n",
      "    A string is whitespace if all characters in the string are whitespace and there\n",
      "    is at least one character in the string.\n",
      "\n"
     ]
    }
   ],
   "source": [
    "help(s.isspace)"
   ]
  },
  {
   "cell_type": "code",
   "execution_count": 171,
   "id": "462ab3db",
   "metadata": {},
   "outputs": [],
   "source": [
    "s = 'Title Hello This Is Good To Here You'"
   ]
  },
  {
   "cell_type": "code",
   "execution_count": 172,
   "id": "d04a0642",
   "metadata": {},
   "outputs": [
    {
     "data": {
      "text/plain": [
       "True"
      ]
     },
     "execution_count": 172,
     "metadata": {},
     "output_type": "execute_result"
    }
   ],
   "source": [
    "s.istitle()"
   ]
  },
  {
   "cell_type": "code",
   "execution_count": 177,
   "id": "fa0dca13",
   "metadata": {},
   "outputs": [],
   "source": [
    "s = \"HELOO PYTHOn THIS IS MORNING CLASS\""
   ]
  },
  {
   "cell_type": "code",
   "execution_count": 178,
   "id": "1a8f9a84",
   "metadata": {},
   "outputs": [
    {
     "data": {
      "text/plain": [
       "False"
      ]
     },
     "execution_count": 178,
     "metadata": {},
     "output_type": "execute_result"
    }
   ],
   "source": [
    "s.isupper()"
   ]
  },
  {
   "cell_type": "code",
   "execution_count": null,
   "id": "ed6a389c",
   "metadata": {},
   "outputs": [],
   "source": []
  }
 ],
 "metadata": {
  "kernelspec": {
   "display_name": "Python 3 (ipykernel)",
   "language": "python",
   "name": "python3"
  },
  "language_info": {
   "codemirror_mode": {
    "name": "ipython",
    "version": 3
   },
   "file_extension": ".py",
   "mimetype": "text/x-python",
   "name": "python",
   "nbconvert_exporter": "python",
   "pygments_lexer": "ipython3",
   "version": "3.12.3"
  }
 },
 "nbformat": 4,
 "nbformat_minor": 5
}
