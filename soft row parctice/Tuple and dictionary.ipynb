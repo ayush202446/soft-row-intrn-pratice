{
 "cells": [
  {
   "cell_type": "code",
   "execution_count": 1,
   "id": "8f3a254d",
   "metadata": {},
   "outputs": [],
   "source": [
    "my_tuple = ()"
   ]
  },
  {
   "cell_type": "code",
   "execution_count": 2,
   "id": "6cea997b",
   "metadata": {},
   "outputs": [
    {
     "name": "stdout",
     "output_type": "stream",
     "text": [
      "<class 'tuple'>\n"
     ]
    }
   ],
   "source": [
    "print(type(my_tuple))"
   ]
  },
  {
   "cell_type": "markdown",
   "id": "ac4b93ff",
   "metadata": {},
   "source": [
    "# Tuple\n",
    "    immutable data type \n",
    "    ordered data type \n",
    "    ()"
   ]
  },
  {
   "cell_type": "code",
   "execution_count": 3,
   "id": "c9940b8d",
   "metadata": {},
   "outputs": [],
   "source": [
    "t = (1,2,3,4,5)"
   ]
  },
  {
   "cell_type": "code",
   "execution_count": 4,
   "id": "1c208b8d",
   "metadata": {},
   "outputs": [
    {
     "name": "stdout",
     "output_type": "stream",
     "text": [
      "<class 'tuple'> (1, 2, 3, 4, 5)\n"
     ]
    }
   ],
   "source": [
    "print(type(t),t)"
   ]
  },
  {
   "cell_type": "code",
   "execution_count": 5,
   "id": "42d9fd7c",
   "metadata": {},
   "outputs": [],
   "source": [
    "t1 = ('gaurav',1,2,3,4,'shubham')"
   ]
  },
  {
   "cell_type": "code",
   "execution_count": 6,
   "id": "0d3185e0",
   "metadata": {},
   "outputs": [
    {
     "name": "stdout",
     "output_type": "stream",
     "text": [
      "('gaurav', 1, 2, 3, 4, 'shubham')\n"
     ]
    }
   ],
   "source": [
    "print(t1)"
   ]
  },
  {
   "cell_type": "code",
   "execution_count": 7,
   "id": "cf2b092d",
   "metadata": {},
   "outputs": [],
   "source": [
    "t2 = (['gaurav','shubham'],('hello python'),1,2,4,5,{'gaurav'})"
   ]
  },
  {
   "cell_type": "code",
   "execution_count": 8,
   "id": "962cef6d",
   "metadata": {},
   "outputs": [
    {
     "name": "stdout",
     "output_type": "stream",
     "text": [
      "(['gaurav', 'shubham'], 'hello python', 1, 2, 4, 5, {'gaurav'})\n"
     ]
    }
   ],
   "source": [
    "print(t2)"
   ]
  },
  {
   "cell_type": "code",
   "execution_count": 9,
   "id": "a89fffb7",
   "metadata": {},
   "outputs": [],
   "source": [
    "t3 = t1 + t2"
   ]
  },
  {
   "cell_type": "code",
   "execution_count": 10,
   "id": "3365f956",
   "metadata": {},
   "outputs": [
    {
     "name": "stdout",
     "output_type": "stream",
     "text": [
      "('gaurav', 1, 2, 3, 4, 'shubham', ['gaurav', 'shubham'], 'hello python', 1, 2, 4, 5, {'gaurav'})\n"
     ]
    }
   ],
   "source": [
    "print(t3)"
   ]
  },
  {
   "cell_type": "code",
   "execution_count": 55,
   "id": "79c45503",
   "metadata": {},
   "outputs": [],
   "source": [
    "s = {1,2,3,4}"
   ]
  },
  {
   "cell_type": "code",
   "execution_count": 56,
   "id": "4f3f64a3",
   "metadata": {},
   "outputs": [
    {
     "name": "stdout",
     "output_type": "stream",
     "text": [
      "<class 'set'> {1, 2, 3, 4}\n"
     ]
    }
   ],
   "source": [
    "print(type(s),s)"
   ]
  },
  {
   "cell_type": "code",
   "execution_count": 57,
   "id": "8e1d4ce3",
   "metadata": {},
   "outputs": [],
   "source": [
    "data = {'name':'gaurav','course':'python','mob':12345678}"
   ]
  },
  {
   "cell_type": "code",
   "execution_count": 58,
   "id": "9edfd99b",
   "metadata": {},
   "outputs": [
    {
     "name": "stdout",
     "output_type": "stream",
     "text": [
      "{'name': 'gaurav', 'course': 'python', 'mob': 12345678}\n"
     ]
    }
   ],
   "source": [
    "print(data)"
   ]
  },
  {
   "cell_type": "code",
   "execution_count": 59,
   "id": "816645f8",
   "metadata": {},
   "outputs": [],
   "source": [
    "info = {\n",
    "    'name':'ashish',\n",
    "    'dis':'kota',\n",
    "    'state':'rajasthan'\n",
    "    \n",
    "}"
   ]
  },
  {
   "cell_type": "code",
   "execution_count": 60,
   "id": "87076ae3",
   "metadata": {},
   "outputs": [
    {
     "name": "stdout",
     "output_type": "stream",
     "text": [
      "{'name': 'ashish', 'dis': 'kota', 'state': 'rajasthan'}\n"
     ]
    }
   ],
   "source": [
    "print(info)"
   ]
  },
  {
   "cell_type": "code",
   "execution_count": 63,
   "id": "c0fafe24",
   "metadata": {},
   "outputs": [
    {
     "data": {
      "text/plain": [
       "'rajasthan'"
      ]
     },
     "execution_count": 63,
     "metadata": {},
     "output_type": "execute_result"
    }
   ],
   "source": [
    "info['state']"
   ]
  },
  {
   "cell_type": "code",
   "execution_count": 68,
   "id": "3a37bfad",
   "metadata": {},
   "outputs": [],
   "source": [
    "students = {\n",
    "    1:'gaurav',\n",
    "    2:'shubham',\n",
    "    3:'vikash',\n",
    "    4:'ravi',\n",
    "    5:'deep',\n",
    "    6:'sachin',\n",
    "    7:'ritesh',\n",
    "    8:'aman',\n",
    "    9:'bhati'\n",
    "}"
   ]
  },
  {
   "cell_type": "code",
   "execution_count": 70,
   "id": "73908ea8",
   "metadata": {},
   "outputs": [
    {
     "name": "stdout",
     "output_type": "stream",
     "text": [
      "{1: 'gaurav', 2: 'shubham', 3: 'vikash', 4: 'ravi', 5: 'deep', 6: 'sachin', 7: 'ritesh', 8: 'aman', 9: 'bhati'}\n"
     ]
    }
   ],
   "source": [
    "print(students)"
   ]
  },
  {
   "cell_type": "code",
   "execution_count": 72,
   "id": "183a5c7e",
   "metadata": {},
   "outputs": [],
   "source": [
    "data = {\n",
    "    \n",
    "    (1,2,4):'shubham'\n",
    "    \n",
    "}"
   ]
  },
  {
   "cell_type": "code",
   "execution_count": 73,
   "id": "a9f9f176",
   "metadata": {},
   "outputs": [
    {
     "name": "stdout",
     "output_type": "stream",
     "text": [
      "{(1, 2, 4): 'shubham'}\n"
     ]
    }
   ],
   "source": [
    "print(data)"
   ]
  },
  {
   "cell_type": "code",
   "execution_count": 84,
   "id": "3b459c82",
   "metadata": {},
   "outputs": [],
   "source": [
    "s = 'gaur@1234av'"
   ]
  },
  {
   "cell_type": "code",
   "execution_count": 85,
   "id": "4602e8a0",
   "metadata": {},
   "outputs": [
    {
     "data": {
      "text/plain": [
       "-8132269386488406454"
      ]
     },
     "execution_count": 85,
     "metadata": {},
     "output_type": "execute_result"
    }
   ],
   "source": [
    "hash(s)"
   ]
  },
  {
   "cell_type": "code",
   "execution_count": 82,
   "id": "8c457332",
   "metadata": {},
   "outputs": [],
   "source": [
    "s1 = 'gaur@1234av'"
   ]
  },
  {
   "cell_type": "code",
   "execution_count": 83,
   "id": "1cbed775",
   "metadata": {},
   "outputs": [
    {
     "data": {
      "text/plain": [
       "-8132269386488406454"
      ]
     },
     "execution_count": 83,
     "metadata": {},
     "output_type": "execute_result"
    }
   ],
   "source": [
    "hash(s1)"
   ]
  },
  {
   "cell_type": "code",
   "execution_count": 94,
   "id": "fb636cb3",
   "metadata": {},
   "outputs": [],
   "source": [
    "a = \"hello\""
   ]
  },
  {
   "cell_type": "code",
   "execution_count": 95,
   "id": "5eb69ef1",
   "metadata": {},
   "outputs": [],
   "source": [
    "b = \"hello\""
   ]
  },
  {
   "cell_type": "code",
   "execution_count": 96,
   "id": "d712818a",
   "metadata": {},
   "outputs": [
    {
     "name": "stdout",
     "output_type": "stream",
     "text": [
      "2385466435056\n"
     ]
    }
   ],
   "source": [
    "print(id(a))"
   ]
  },
  {
   "cell_type": "code",
   "execution_count": 97,
   "id": "a380b582",
   "metadata": {},
   "outputs": [
    {
     "name": "stdout",
     "output_type": "stream",
     "text": [
      "2385466435056\n"
     ]
    }
   ],
   "source": [
    "print(id(b))"
   ]
  },
  {
   "cell_type": "code",
   "execution_count": null,
   "id": "840683c1",
   "metadata": {},
   "outputs": [],
   "source": []
  }
 ],
 "metadata": {
  "kernelspec": {
   "display_name": "Python 3 (ipykernel)",
   "language": "python",
   "name": "python3"
  },
  "language_info": {
   "codemirror_mode": {
    "name": "ipython",
    "version": 3
   },
   "file_extension": ".py",
   "mimetype": "text/x-python",
   "name": "python",
   "nbconvert_exporter": "python",
   "pygments_lexer": "ipython3",
   "version": "3.12.3"
  }
 },
 "nbformat": 4,
 "nbformat_minor": 5
}
