{
 "cells": [
  {
   "cell_type": "markdown",
   "id": "a52477d0-9479-4903-9df3-2ec4afcee10f",
   "metadata": {},
   "source": [
    "a = \"\"\" Twinkle, twinkle,little star,\n",
    "            How I wonder what you are!\n",
    "                    Up above the world so high,\n",
    "                    Like a dimond in the sky.\n",
    "       Twinkle,twinkle,littile star,\n",
    "                 How I wonder what you are \"\"\"\n",
    "print(a)"
   ]
  },
  {
   "cell_type": "code",
   "execution_count": null,
   "id": "d5f5fc10-3db5-4579-9211-0c1c3ff451e1",
   "metadata": {},
   "outputs": [],
   "source": [
    "## "
   ]
  },
  {
   "cell_type": "code",
   "execution_count": 25,
   "id": "9c9c98b9",
   "metadata": {},
   "outputs": [
    {
     "name": "stdout",
     "output_type": "stream",
     "text": [
      "Python version\n",
      "3.11.5 | packaged by Anaconda, Inc. | (main, Sep 11 2023, 13:26:23) [MSC v.1916 64 bit (AMD64)]\n",
      "version info\n",
      "sys.version_info(major=3, minor=11, micro=5, releaselevel='final', serial=0)\n"
     ]
    }
   ],
   "source": [
    "import sys\n",
    "print('Python version')\n",
    "\n",
    "print(sys.version)\n",
    "\n",
    "print(\"version info\")\n",
    "\n",
    "print(sys.version_info)"
   ]
  },
  {
   "cell_type": "code",
   "execution_count": 2,
   "id": "e637e730",
   "metadata": {},
   "outputs": [
    {
     "name": "stdout",
     "output_type": "stream",
     "text": [
      "current date and time:\n",
      "2024-06-27 12:33:58\n"
     ]
    }
   ],
   "source": [
    "import datetime\n",
    "\n",
    "current_datetime = datetime.datetime.now()\n",
    "\n",
    "formatted_datetime = current_datetime.strftime(\"%Y-%m-%d %H:%M:%S\")\n",
    "\n",
    "print(\"current date and time:\")\n",
    "print(formatted_datetime)"
   ]
  },
  {
   "cell_type": "code",
   "execution_count": 1,
   "id": "d624f999",
   "metadata": {},
   "outputs": [
    {
     "name": "stdin",
     "output_type": "stream",
     "text": [
      "enter your radius of the circle :--> 23\n"
     ]
    },
    {
     "name": "stdout",
     "output_type": "stream",
     "text": [
      "The areaof the circle with radius 23is: 10696574611.050783\n"
     ]
    }
   ],
   "source": [
    "from math import pi\n",
    "r = int(input(\"enter your radius of the circle :-->\"))\n",
    "\n",
    "area = pi * r ** 7\n",
    "\n",
    "print(\"The areaof the circle with radius \" + str(r) + \"is: \" + str(area))"
   ]
  },
  {
   "cell_type": "code",
   "execution_count": 1,
   "id": "6ac568ac",
   "metadata": {},
   "outputs": [
    {
     "name": "stdin",
     "output_type": "stream",
     "text": [
      "enter your fname :--> ayush\n",
      "enter your lname : --> gupta\n"
     ]
    },
    {
     "name": "stdout",
     "output_type": "stream",
     "text": [
      "ayush gupta\n"
     ]
    }
   ],
   "source": [
    "fname = input(\"enter your fname :-->\")\n",
    "lname = input(\"enter your lname : -->\")\n",
    "\n",
    "print(fname + \" \" +lname)"
   ]
  },
  {
   "cell_type": "code",
   "execution_count": 5,
   "id": "a4307adb",
   "metadata": {},
   "outputs": [
    {
     "name": "stdout",
     "output_type": "stream",
     "text": [
      "enter your coma-seperate numbers :-->1,2,3,4\n",
      "List : ['1', '2', '3', '4']\n",
      "Tuple :  ('1', '2', '3', '4')\n"
     ]
    }
   ],
   "source": [
    "values = (input(\"enter your coma-seperate numbers :-->\"))\n",
    "list = values.split(\",\")\n",
    "tuple = tuple(list)\n",
    "print('List :', list)\n",
    "print('Tuple : ', Tuple)"
   ]
  },
  {
   "cell_type": "code",
   "execution_count": 36,
   "id": "f67644ca",
   "metadata": {},
   "outputs": [
    {
     "name": "stdout",
     "output_type": "stream",
     "text": [
      "enter your file name :-->abc.java\n",
      "the extention of file is : 'java'\n"
     ]
    }
   ],
   "source": [
    "file_name = input(\"enter your file name :-->\")\n",
    "f_extns = file_name.split(\".\")\n",
    "print(\"the extention of file is : \" + repr(f_extns[1]))"
   ]
  },
  {
   "cell_type": "code",
   "execution_count": 3,
   "id": "b18b02de",
   "metadata": {},
   "outputs": [
    {
     "name": "stdout",
     "output_type": "stream",
     "text": [
      "red white\n"
     ]
    }
   ],
   "source": [
    "color_list = [\"red\", \"green\", \"white\", \"black\"]\n",
    "print(\"%s %s\" % (color_list[0], color_list[-2]))"
   ]
  },
  {
   "cell_type": "code",
   "execution_count": 5,
   "id": "b34c3c30",
   "metadata": {},
   "outputs": [
    {
     "name": "stdout",
     "output_type": "stream",
     "text": [
      "The examination date will start from : 23 / 6 / 2024\n"
     ]
    }
   ],
   "source": [
    "exam_st_date = (23, 6, 2024)\n",
    "\n",
    "print(\"The examination date will start from : %i / %i / %i\" % exam_st_date)"
   ]
  },
  {
   "cell_type": "code",
   "execution_count": 6,
   "id": "80a39000",
   "metadata": {},
   "outputs": [
    {
     "name": "stdin",
     "output_type": "stream",
     "text": [
      "enter your number :--> 45\n"
     ]
    },
    {
     "name": "stdout",
     "output_type": "stream",
     "text": [
      "459135\n"
     ]
    }
   ],
   "source": [
    "a = int(input(\"enter your number :-->\"))\n",
    "n1 = int(\"%s\" % a)\n",
    "n2 = int(\"%s%s\" % (a, a))\n",
    "n3 = int(\"%s%s%s\" % (a, a, a))\n",
    "\n",
    "print(n1 + n2 + n3)"
   ]
  },
  {
   "cell_type": "code",
   "execution_count": 48,
   "id": "695a7e98",
   "metadata": {},
   "outputs": [
    {
     "name": "stdout",
     "output_type": "stream",
     "text": [
      "enter your year :-->2024\n",
      "enter your month :-->6\n",
      "     June 2024\n",
      "Mo Tu We Th Fr Sa Su\n",
      "                1  2\n",
      " 3  4  5  6  7  8  9\n",
      "10 11 12 13 14 15 16\n",
      "17 18 19 20 21 22 23\n",
      "24 25 26 27 28 29 30\n",
      "\n"
     ]
    }
   ],
   "source": [
    "import calendar\n",
    "y = int(input(\"enter your year :-->\"))\n",
    "m = int(input(\"enter your month :-->\"))\n",
    "print(calendar.month(y, m))"
   ]
  },
  {
   "cell_type": "code",
   "execution_count": 9,
   "id": "1744ea04",
   "metadata": {},
   "outputs": [
    {
     "name": "stdout",
     "output_type": "stream",
     "text": [
      "33\n"
     ]
    }
   ],
   "source": [
    "a = (2014, 7, 56)\n",
    "b = (2014, 7, 23)\n",
    "\n",
    "days = (56)\n",
    "days1 = (23)\n",
    "sum = days - days1 \n",
    "print(sum)"
   ]
  },
  {
   "cell_type": "code",
   "execution_count": 53,
   "id": "202a9565",
   "metadata": {},
   "outputs": [
    {
     "name": "stdout",
     "output_type": "stream",
     "text": [
      "the volue of the sphere is:  904.3199999999999\n"
     ]
    }
   ],
   "source": [
    "pi = 3.14\n",
    "\n",
    "r = 6.0\n",
    "\n",
    "v = 4.0/3.0 * pi * r**3\n",
    "\n",
    "print(\"the volue of the sphere is: \", v)"
   ]
  },
  {
   "cell_type": "code",
   "execution_count": 54,
   "id": "c07cc730",
   "metadata": {},
   "outputs": [
    {
     "name": "stdout",
     "output_type": "stream",
     "text": [
      "10\n",
      "3\n"
     ]
    }
   ],
   "source": [
    "def difference(n):\n",
    "    # Check if n is less than or equal to 17\n",
    "    if n <= 17:\n",
    "        return 17 - n\n",
    "    else:       \n",
    "        return (n - 17) * 2\n",
    "print(difference(22))\n",
    "print(difference(14))"
   ]
  },
  {
   "cell_type": "code",
   "execution_count": 1,
   "id": "d60895f0",
   "metadata": {},
   "outputs": [
    {
     "name": "stdout",
     "output_type": "stream",
     "text": [
      "10\n",
      "3\n"
     ]
    }
   ],
   "source": [
    "# Define a function named \"difference\" that takes an integer parameter \"n\"\n",
    "def difference(n):\n",
    "    if n <= 17:\n",
    " between 17 and n\n",
    "        return 17 - n\n",
    "    else:\n",
    "        return (n - 17) * 2\n",
    "\n",
    "print(difference(22))\n",
    "print(difference(14))"
   ]
  },
  {
   "cell_type": "code",
   "execution_count": 2,
   "id": "bdd7cd7a",
   "metadata": {},
   "outputs": [
    {
     "name": "stdout",
     "output_type": "stream",
     "text": [
      "True\n",
      "True\n",
      "False\n",
      "False\n"
     ]
    }
   ],
   "source": [
    "# Define a function named \"near_thousand\" that takes an integer parameter \"n\"\n",
    "def near_thousand(n):\n",
    "    return ((abs(1000 - n) <= 100) or (abs(2000 - n) <= 100))\n",
    "print(near_thousand(1000))\n",
    "\n",
    "print(near_thousand(900))\n",
    "\n",
    "print(near_thousand(800))\n",
    "print(near_thousand(2200))\n"
   ]
  },
  {
   "cell_type": "code",
   "execution_count": 3,
   "id": "773362ac",
   "metadata": {},
   "outputs": [
    {
     "name": "stdout",
     "output_type": "stream",
     "text": [
      "6\n",
      "27\n"
     ]
    }
   ],
   "source": [
    "# Define a function named \"sum_thrice\" that takes three integer parameters: x, y, and z\n",
    "def sum_thrice(x, y, z):\n",
    "    sum = x + y + z\n",
    "    if x == y == z:\n",
    "        sum = sum * 3\n",
    "    return sum\n",
    "print(sum_thrice(3, 3, 3))\n"
   ]
  },
  {
   "cell_type": "code",
   "execution_count": 4,
   "id": "9554a7a9",
   "metadata": {},
   "outputs": [
    {
     "name": "stdout",
     "output_type": "stream",
     "text": [
      "IsArray\n",
      "IsEmpty\n"
     ]
    }
   ],
   "source": [
    "# Define a function named \"new_string\" that takes a string parameter called \"text\"\n",
    "def new_string(text):\n",
    "    if len(text) >= 2 and text[:2] == \"Is\":\n",
    "        return text\n",
    "    else:\n",
    "        return \"Is\" + text\n",
    "print(new_string(\"Array\"))\n",
    "print(new_string(\"IsEmpty\"))\n"
   ]
  },
  {
   "cell_type": "code",
   "execution_count": 5,
   "id": "b88daad1",
   "metadata": {},
   "outputs": [
    {
     "name": "stdout",
     "output_type": "stream",
     "text": [
      "abcabc\n",
      ".py.py.py\n"
     ]
    }
   ],
   "source": [
    "# Define a function named \"larger_string\" that takes two parameters, \"text\" and \"n\"\n",
    "def larger_string(text, n):\n",
    "    result = \"\"\n",
    "    for i in range(n):\n",
    "        result = result + text\n",
    "    return result\n",
    "print(larger_string('abc', 2))\n",
    "print(larger_string('.py', 3))\n"
   ]
  },
  {
   "cell_type": "code",
   "execution_count": 1,
   "id": "d51b8857",
   "metadata": {},
   "outputs": [
    {
     "name": "stdin",
     "output_type": "stream",
     "text": [
      "Enter a number:  6\n"
     ]
    },
    {
     "name": "stdout",
     "output_type": "stream",
     "text": [
      "This is an even number.\n"
     ]
    }
   ],
   "source": [
    "# Prompt the user to enter a number and convert the input to an integer\n",
    "num = int(input(\"Enter a number: \"))\n",
    "\n",
    "mod = num % 2\n",
    "\n",
    "if mod > 0:\n",
    "    print(\"This is an odd number.\")\n",
    "else:\n",
    "\n",
    "    print(\"This is an even number.\")\n",
    "\n"
   ]
  },
  {
   "cell_type": "code",
   "execution_count": 7,
   "id": "73a98936",
   "metadata": {},
   "outputs": [
    {
     "name": "stdout",
     "output_type": "stream",
     "text": [
      "2\n",
      "3\n"
     ]
    }
   ],
   "source": [
    "# Define a function called list_count_4 that takes a list of numbers (nums) as a parameter.\n",
    "def list_count_4(nums):\n",
    "  count = 0\n",
    "\n",
    "  for num in nums:\n",
    "    if num == 4:\n",
    "      count = count + 1\n",
    "\n",
    "  return count\n",
    "\n",
    "print(list_count_4([1, 4, 6, 7, 4]))  \n",
    "print(list_count_4([1, 4, 6, 4, 7, 4]))\n"
   ]
  },
  {
   "cell_type": "code",
   "execution_count": 8,
   "id": "67e801a4",
   "metadata": {},
   "outputs": [
    {
     "name": "stdout",
     "output_type": "stream",
     "text": [
      "abab\n",
      "ppp\n"
     ]
    }
   ],
   "source": [
    "# Define a function called substring_copy that takes two parameters: text (a string) and n (an integer).\n",
    "def substring_copy(text, n):\n",
    "  flen = 2\n",
    "  if flen > len(text):\n",
    " \n",
    "    flen = len(text)\n",
    "\n",
    "  result = \"\"\n",
    "\n",
    "  for i in range(n):\n",
    "    result = result + substr\n",
    "\n",
    "  return result\n",
    "\n",
    "print(substring_copy('abcdef', 2))  \n",
    "print(substring_copy('p', 3))  \n"
   ]
  },
  {
   "cell_type": "code",
   "execution_count": 9,
   "id": "0acbbb6b",
   "metadata": {},
   "outputs": [
    {
     "name": "stdout",
     "output_type": "stream",
     "text": [
      "False\n",
      "True\n"
     ]
    }
   ],
   "source": [
    "# Define a function called is_vowel that takes one parameter: char (a character).\n",
    "def is_vowel(char):\n",
    "   \n",
    "    all_vowels = 'aeiou'\n",
    "\n",
    "    \n",
    "    return char in all_vowels\n",
    "print(is_vowel('c'))\n",
    "print(is_vowel('e')) \n"
   ]
  },
  {
   "cell_type": "code",
   "execution_count": 10,
   "id": "9ec30a49",
   "metadata": {},
   "outputs": [
    {
     "name": "stdout",
     "output_type": "stream",
     "text": [
      "True\n",
      "False\n"
     ]
    }
   ],
   "source": [
    "# Define a function called is_group_member that takes two parameters: group_data (a list) and n (an integer).\n",
    "def is_group_member(group_data, n):\n",
    "    for value in group_data:\n",
    "\n",
    "        if n == value:\n",
    "            return True  \n",
    "    return False \n",
    "print(is_group_member([1, 5, 8, 3], 3))  # Output: True (3 is in the list)\n",
    "print(is_group_member([5, 8, 3], -1))    # Output: False (-1 is not in the list)\n"
   ]
  },
  {
   "cell_type": "code",
   "execution_count": 11,
   "id": "838e8bb3",
   "metadata": {},
   "outputs": [
    {
     "name": "stdout",
     "output_type": "stream",
     "text": [
      "**\n",
      "***\n",
      "******\n",
      "*****\n"
     ]
    }
   ],
   "source": [
    "# Define a function called histogram that takes a list of items as a parameter.\n",
    "def histogram(items):\n",
    "    for n in items:\n",
    "        output = ''  \n",
    "        times = n\n",
    "        while times > 0:\n",
    "            output += '*'\n",
    "            times = times - 1  \n",
    "        \n",
    "        print(output)\n",
    "histogram([2, 3, 6, 5])\n"
   ]
  },
  {
   "cell_type": "code",
   "execution_count": 12,
   "id": "a933f65f",
   "metadata": {},
   "outputs": [
    {
     "name": "stdout",
     "output_type": "stream",
     "text": [
      "15122\n"
     ]
    }
   ],
   "source": [
    "# Define a function called concatenate_list_data that takes a list as a parameter.\n",
    "def concatenate_list_data(lst):\n",
    "    result = ''\n",
    "    \n",
    "    for element in lst:\n",
    "        result += str(element)  \n",
    "\n",
    "    return result \n",
    "print(concatenate_list_data([1, 5, 12, 2]))\n"
   ]
  },
  {
   "cell_type": "code",
   "execution_count": 13,
   "id": "6eacd7bf",
   "metadata": {},
   "outputs": [
    {
     "name": "stdout",
     "output_type": "stream",
     "text": [
      "386\n",
      "462\n",
      "418\n",
      "344\n",
      "236\n",
      "566\n",
      "978\n",
      "328\n",
      "162\n",
      "758\n",
      "918\n",
      "237\n"
     ]
    }
   ],
   "source": [
    "# Define a list of numbers.\n",
    "numbers = [    \n",
    "    386, 462, 47, 418, 907, 344, 236, 375, 823, 566, 597, 978, 328, 615, 953, 345, \n",
    "    399, 162, 758, 219, 918, 237, 412, 566, 826, 248, 866, 950, 626, 949, 687, 217, \n",
    "    815, 67, 104, 58, 512, 24, 892, 894, 767, 553, 81, 379, 843, 831, 445, 742, 717, \n",
    "    958,743, 527\n",
    "]\n",
    "for x in numbers:\n",
    "    if x == 237:\n",
    "        print(x)  \n",
    "    elif x % 2 == 0:\n",
    "        print(x) \n",
    "\n"
   ]
  },
  {
   "cell_type": "code",
   "execution_count": 14,
   "id": "40a48649",
   "metadata": {},
   "outputs": [
    {
     "name": "stdout",
     "output_type": "stream",
     "text": [
      "Original set elements:\n",
      "{'White', 'Black', 'Red'}\n",
      "{'Green', 'Red'}\n",
      "\n",
      "Difference of color_list_1 and color_list_2:\n",
      "{'White', 'Black'}\n",
      "\n",
      "Difference of color_list_2 and color_list_1:\n",
      "{'Green'}\n"
     ]
    }
   ],
   "source": [
    "# Create two sets, color_list_1 and color_list_2.\n",
    "color_list_1 = set([\"White\", \"Black\", \"Red\"])\n",
    "color_list_2 = set([\"Red\", \"Green\"])\n",
    "print(\"Original set elements:\")\n",
    "print(color_list_1)\n",
    "print(color_list_2)\n",
    "\n",
    "print(\"\\nDifference of color_list_1 and color_list_2:\")\n",
    "print(color_list_1.difference(color_list_2))\n",
    "\n",
    "print(\"\\nDifference of color_list_2 and color_list_1:\")\n",
    "print(color_list_2.difference(color_list_1))\n"
   ]
  },
  {
   "cell_type": "code",
   "execution_count": 15,
   "id": "a5a6ac62",
   "metadata": {},
   "outputs": [
    {
     "name": "stdout",
     "output_type": "stream",
     "text": [
      "Input the base : 5\n",
      "Input the height : 6\n",
      "area =  15.0\n"
     ]
    }
   ],
   "source": [
    "# Prompt the user to input the base and height of a triangle as integers.\n",
    "b = int(input(\"Input the base : \"))\n",
    "h = int(input(\"Input the height : \"))\n",
    "\n",
    "area = b * h / 2\n",
    "print(\"area = \", area)\n"
   ]
  },
  {
   "cell_type": "code",
   "execution_count": 16,
   "id": "0865fc98",
   "metadata": {},
   "outputs": [
    {
     "name": "stdout",
     "output_type": "stream",
     "text": [
      "GCD of 12 & 17 = 1\n",
      "GCD of 4 & 6 = 2\n",
      "GCD of 336 & 360 = 24\n"
     ]
    }
   ],
   "source": [
    "# Define a function to calculate the greatest common divisor (GCD) of two numbers.\n",
    "def gcd(x, y):\n",
    "    z = x % y\n",
    "    \n",
    "    \n",
    "    while z:\n",
    "\n",
    "        x = y\n",
    "        y = z\n",
    "        z = x % y\n",
    "    \n",
    "\n",
    "    return y\n",
    "\n",
    "\n",
    "print(\"GCD of 12 & 17 =\", gcd(12, 17))\n",
    "print(\"GCD of 4 & 6 =\", gcd(4, 6))\n",
    "print(\"GCD of 336 & 360 =\", gcd(336, 360))\n"
   ]
  },
  {
   "cell_type": "code",
   "execution_count": 17,
   "id": "defe317a",
   "metadata": {},
   "outputs": [
    {
     "name": "stdout",
     "output_type": "stream",
     "text": [
      "12\n",
      "255\n"
     ]
    }
   ],
   "source": [
    "# Define a function 'lcm' that calculates the least common multiple (LCM) of two numbers, 'x' and 'y'.\n",
    "def lcm(x, y):\n",
    "\n",
    "    if x > y:\n",
    "        z = x\n",
    "    else:\n",
    "        z = y\n",
    "    \n",
    "    while True:\n",
    "       \n",
    "        if (z % x == 0) and (z % y == 0):\n",
    "           \n",
    "            lcm = z\n",
    "            break\n",
    "        \n",
    "        z += 1\n",
    "    \n",
    "    \n",
    "    return lcm\n",
    "\n",
    "print(lcm(4, 6))\n",
    "print(lcm(15, 17))\n"
   ]
  },
  {
   "cell_type": "code",
   "execution_count": 18,
   "id": "9f684acf",
   "metadata": {},
   "outputs": [
    {
     "name": "stdout",
     "output_type": "stream",
     "text": [
      "0\n",
      "0\n",
      "0\n",
      "6\n"
     ]
    }
   ],
   "source": [
    "# Define a function 'sum_three' that takes three integer inputs: x, y, and z.\n",
    "def sum_three(x, y, z):\n",
    "   \n",
    "    if x == y or y == z or x == z:\n",
    "        sum = 0\n",
    "    else:\n",
    "        sum = x + y + z\n",
    "    \n",
    "    return sum\n",
    "\n",
    "print(sum_three(2, 1, 2))\n",
    "print(sum_three(3, 2, 2))\n",
    "print(sum_three(2, 2, 2))\n",
    "print(sum_three(1, 2, 3))\n"
   ]
  },
  {
   "cell_type": "code",
   "execution_count": 19,
   "id": "40f73904",
   "metadata": {},
   "outputs": [
    {
     "name": "stdout",
     "output_type": "stream",
     "text": [
      "20\n",
      "12\n",
      "22\n"
     ]
    }
   ],
   "source": [
    " # Calculate the sum of x and y and store it in the 'sum' variable.\n",
    "    sum = x + y\n",
    "    \n",
    "    if sum in range(15, 20):\n",
    "    \n",
    "        return 20\n",
    "    else:\n",
    "        return sum\n",
    "\n",
    "print(sum(10, 6))\n",
    "print(sum(10, 2))\n",
    "print(sum(10, 12))\n"
   ]
  },
  {
   "cell_type": "code",
   "execution_count": 20,
   "id": "85523933",
   "metadata": {},
   "outputs": [
    {
     "name": "stdout",
     "output_type": "stream",
     "text": [
      "True\n",
      "True\n",
      "True\n",
      "False\n",
      "False\n"
     ]
    }
   ],
   "source": [
    "# Define a function 'test_number5' that takes two integer inputs: x and y.\n",
    "def test_number5(x, y):\n",
    "    if x == y or abs(x - y) == 5 or (x + y) == 5:\n",
    "        return True\n",
    "    else:\n",
    "        return False\n",
    "print(test_number5(7, 2))\n",
    "print(test_number5(3, 2))\n",
    "print(test_number5(2, 2))\n",
    "print(test_number5(7, 3))\n",
    "print(test_number5(27, 53))\n"
   ]
  },
  {
   "cell_type": "code",
   "execution_count": 21,
   "id": "5ba9be3f",
   "metadata": {},
   "outputs": [
    {
     "name": "stdout",
     "output_type": "stream",
     "text": [
      "30\n",
      "Inputs must be integers!\n",
      "Inputs must be integers!\n",
      "Inputs must be integers!\n"
     ]
    }
   ],
   "source": [
    "# Define a function 'add_numbers' that takes two arguments: a and b.\n",
    "def add_numbers(a, b):\n",
    "    if not (isinstance(a, int) and isinstance(b, int)):\n",
    "        return \"Inputs must be integers!\"\n",
    "    return a + b\n",
    "print(add_numbers(10, 20))     \n",
    "print(add_numbers(10, 20.23))  \n",
    "print(add_numbers('5', 6))     \n",
    "print(add_numbers('5', '6'))   "
   ]
  },
  {
   "cell_type": "code",
   "execution_count": 10,
   "id": "0c21d92e",
   "metadata": {},
   "outputs": [
    {
     "name": "stdout",
     "output_type": "stream",
     "text": [
      "Name: Simon\n",
      "Age: 12\n",
      "Address: Bangalore, Karnataka, India\n"
     ]
    }
   ],
   "source": [
    "# Define a function 'personal_details'.\n",
    "def personal_details():\n",
    "    name, age = \"Simon\", 12\n",
    "    address = \"Bangalore, Karnataka, India\"\n",
    "\n",
    "    print(\"Name: {}\\nAge: {}\\nAddress: {}\".format(name, age, address))\n",
    "personal_details()\n"
   ]
  },
  {
   "cell_type": "code",
   "execution_count": 11,
   "id": "4cf03737",
   "metadata": {},
   "outputs": [
    {
     "name": "stdout",
     "output_type": "stream",
     "text": [
      "(9 + 5.0) ^ 2) = 196.0\n"
     ]
    }
   ],
   "source": [
    "# Define variables 'x' and 'y' and assign values to them.\n",
    "x, y = 9, 5.\n",
    "result = x * x + 2 * x * y + y * y\n",
    "print(\"({} + {}) ^ 2) = {}\".format(x, y, result))\n"
   ]
  },
  {
   "cell_type": "code",
   "execution_count": 13,
   "id": "607b9742",
   "metadata": {},
   "outputs": [
    {
     "name": "stdout",
     "output_type": "stream",
     "text": [
      "40886.92\n"
     ]
    }
   ],
   "source": [
    "# Define the principal amount (initial investment).\n",
    "amt = 30000.\n",
    "int = 3.5\n",
    "years = 9\n",
    "future_value = amt * ((1 + (0.01 * int)) ** years)\n",
    "print(round(future_value, 2))\n"
   ]
  },
  {
   "cell_type": "code",
   "execution_count": 25,
   "id": "21dcdd7a",
   "metadata": {},
   "outputs": [
    {
     "name": "stdout",
     "output_type": "stream",
     "text": [
      "6.324555320336759\n"
     ]
    }
   ],
   "source": [
    "# Import the math module to use the square root function.\n",
    "import math\n",
    "\n",
    "\n",
    "p1 = [4, 0]\n",
    "p2 = [6, 6]\n",
    "distance = math.sqrt(((p1[0] - p2[0]) ** 2) + ((p1[1] - p2[1]) ** 2))\n",
    "print(distance)\n"
   ]
  },
  {
   "cell_type": "code",
   "execution_count": 26,
   "id": "1c498652",
   "metadata": {},
   "outputs": [
    {
     "name": "stdout",
     "output_type": "stream",
     "text": [
      "False\n",
      "False\n"
     ]
    }
   ],
   "source": [
    "# Import the os.path module to work with file and directory paths.\n",
    "import os.path.\n",
    "print(os.path.isfile('main.txt'))\n",
    "print(os.path.isfile('main.py'))\n"
   ]
  },
  {
   "cell_type": "code",
   "execution_count": 27,
   "id": "b7821cbf",
   "metadata": {},
   "outputs": [
    {
     "name": "stdout",
     "output_type": "stream",
     "text": [
      "64\n"
     ]
    }
   ],
   "source": [
    "# Import the 'struct' module, which provides pack and unpack functions for working with variable-length binary data.\n",
    "import struct\n",
    "print(struct.calcsize(\"P\") * 8)\n"
   ]
  },
  {
   "cell_type": "code",
   "execution_count": 28,
   "id": "f5fa5a2c",
   "metadata": {},
   "outputs": [
    {
     "name": "stdout",
     "output_type": "stream",
     "text": [
      "Name of the operating system: nt\n",
      "\n",
      "Name of the OS system: Windows\n",
      "\n",
      "Version of the operating system: 10\n"
     ]
    }
   ],
   "source": [
    "# Import the 'platform' and 'os' modules.\n",
    "import platform\n",
    "import os\n",
    "print(\"Name of the operating system:\", os.name)\n",
    " or 'Darwin' (macOS).\n",
    "print(\"\\nName of the OS system:\", platform.system())\n",
    "print(\"\\nVersion of the operating system:\", platform.release())\n"
   ]
  },
  {
   "cell_type": "code",
   "execution_count": 29,
   "id": "8b84123b",
   "metadata": {},
   "outputs": [
    {
     "name": "stdout",
     "output_type": "stream",
     "text": [
      "['C:\\\\ProgramData\\\\anaconda3', 'C:\\\\ProgramData\\\\anaconda3\\\\Lib\\\\site-packages']\n"
     ]
    }
   ],
   "source": [
    "# Import the 'site' module.\n",
    "import site\n",
    "print(site.getsitepackages())\n"
   ]
  },
  {
   "cell_type": "code",
   "execution_count": null,
   "id": "2f256ec3",
   "metadata": {},
   "outputs": [],
   "source": [
    "#45"
   ]
  },
  {
   "cell_type": "code",
   "execution_count": 32,
   "id": "3034b75e",
   "metadata": {},
   "outputs": [
    {
     "name": "stdout",
     "output_type": "stream",
     "text": [
      "Current File Name:  C:\\Program Files\n"
     ]
    }
   ],
   "source": [
    "# Import the 'os' module to work with the operating system.\n",
    "import os\n",
    "\n",
    "print(\"Current File Name: \", os.path.realpath('C:\\Program Files' ))\n"
   ]
  },
  {
   "cell_type": "code",
   "execution_count": 33,
   "id": "a3ab389e",
   "metadata": {},
   "outputs": [
    {
     "name": "stdout",
     "output_type": "stream",
     "text": [
      "4\n"
     ]
    }
   ],
   "source": [
    "# Import the 'multiprocessing' module to work with multi-processing features.\n",
    "import multiprocessing\n",
    "\n",
    "cpu_count = multiprocessing.cpu_count()\n",
    "print(cpu_count)\n"
   ]
  },
  {
   "cell_type": "code",
   "execution_count": 45,
   "id": "a0a7e488",
   "metadata": {},
   "outputs": [
    {
     "name": "stdout",
     "output_type": "stream",
     "text": [
      "['desktop.ini']\n"
     ]
    }
   ],
   "source": [
    "# Import necessary functions and modules from the 'os' library.\n",
    "from os import listdir\n",
    "from os.path import isfile, join\n",
    "files_list = [f for f in listdir('C:\\Program Files') if isfile(join('C:\\Program Files', f))]\n",
    "\n",
    "\n",
    "print(files_list)\n"
   ]
  },
  {
   "cell_type": "code",
   "execution_count": 43,
   "id": "1c2d8d33",
   "metadata": {},
   "outputs": [
    {
     "name": "stdout",
     "output_type": "stream",
     "text": [
      "**********\n",
      "\n"
     ]
    }
   ],
   "source": [
    "# Iterate through a range of numbers from 0 to 9 (inclusive).\n",
    "for i in range(0, 10):\n",
    "    \n",
    "    print('*', end=\"\")\n",
    "\n",
    "print(\"\\n\")\n"
   ]
  },
  {
   "cell_type": "code",
   "execution_count": null,
   "id": "6c1d2443",
   "metadata": {},
   "outputs": [],
   "source": []
  }
 ],
 "metadata": {
  "kernelspec": {
   "display_name": "Python 3 (ipykernel)",
   "language": "python",
   "name": "python3"
  },
  "language_info": {
   "codemirror_mode": {
    "name": "ipython",
    "version": 3
   },
   "file_extension": ".py",
   "mimetype": "text/x-python",
   "name": "python",
   "nbconvert_exporter": "python",
   "pygments_lexer": "ipython3",
   "version": "3.12.3"
  }
 },
 "nbformat": 4,
 "nbformat_minor": 5
}
