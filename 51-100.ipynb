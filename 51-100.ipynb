{
 "cells": [
  {
   "cell_type": "code",
   "execution_count": 2,
   "id": "795b215d",
   "metadata": {},
   "outputs": [
    {
     "name": "stderr",
     "output_type": "stream",
     "text": [
      "abc--efg--xyz\n"
     ]
    }
   ],
   "source": [
    "# Import the 'print_function' feature from the '__future__' module to enable Python 3-style print function.\n",
    "from __future__ import print_function\n",
    "\n",
    "import sys\n",
    "\n",
    "def eprint(*args, **kwargs):\n",
    "\n",
    "    print(*args, file=sys.stderr, **kwargs)\n",
    "\n",
    "# Call the 'eprint' function with the specified arguments and separator.\n",
    "eprint(\"abc\", \"efg\", \"xyz\", sep=\"--\")\n"
   ]
  },
  {
   "cell_type": "code",
   "execution_count": 3,
   "id": "14f8a9a9",
   "metadata": {},
   "outputs": [
    {
     "name": "stdout",
     "output_type": "stream",
     "text": [
      "Yash\n"
     ]
    }
   ],
   "source": [
    "# Import the 'getpass' module to access user-related functionality, including getting the current username.\n",
    "import getpass\n",
    "\n",
    "print(getpass.getuser())\n"
   ]
  },
  {
   "cell_type": "code",
   "execution_count": 6,
   "id": "1b79628a",
   "metadata": {},
   "outputs": [
    {
     "ename": "IndexError",
     "evalue": "list index out of range",
     "output_type": "error",
     "traceback": [
      "\u001b[1;31m---------------------------------------------------------------------------\u001b[0m",
      "\u001b[1;31mIndexError\u001b[0m                                Traceback (most recent call last)",
      "Cell \u001b[1;32mIn[6], line 13\u001b[0m\n\u001b[0;32m      9\u001b[0m filtered_ips \u001b[38;5;241m=\u001b[39m [ip \u001b[38;5;28;01mfor\u001b[39;00m ip \u001b[38;5;129;01min\u001b[39;00m ip_addresses \u001b[38;5;28;01mif\u001b[39;00m \u001b[38;5;129;01mnot\u001b[39;00m ip\u001b[38;5;241m.\u001b[39mstartswith(\u001b[38;5;124m\"\u001b[39m\u001b[38;5;124m127.\u001b[39m\u001b[38;5;124m\"\u001b[39m)]\n\u001b[0;32m     11\u001b[0m first_ip \u001b[38;5;241m=\u001b[39m filtered_ips[:\u001b[38;5;241m1\u001b[39m]\n\u001b[1;32m---> 13\u001b[0m \u001b[38;5;28mprint\u001b[39m(\u001b[43mfirst_ip\u001b[49m\u001b[43m[\u001b[49m\u001b[38;5;241;43m9\u001b[39;49m\u001b[43m]\u001b[49m)\n",
      "\u001b[1;31mIndexError\u001b[0m: list index out of range"
     ]
    }
   ],
   "source": [
    "# Import the 'socket' module to work with network-related functions.\n",
    "import socket\n",
    "\n",
    "# Step 1: Get the local hostname.\n",
    "local_hostname = socket.gethostname()\n",
    "\n",
    "ip_addresses = socket.gethostbyname_ex(local_hostname)[2]\n",
    "\n",
    "filtered_ips = [ip for ip in ip_addresses if not ip.startswith(\"127.\")]\n",
    "\n",
    "first_ip = filtered_ips[:1]\n",
    "\n",
    "print(first_ip[9])\n"
   ]
  },
  {
   "cell_type": "code",
   "execution_count": 7,
   "id": "27f75b87",
   "metadata": {},
   "outputs": [
    {
     "name": "stdout",
     "output_type": "stream",
     "text": [
      "\n",
      "Time to sum of 1 to 5 and required time to calculate is: (15, 0.0)\n"
     ]
    }
   ],
   "source": [
    "# Import the 'time' module to work with time-related functions.\n",
    "import time\n",
    "\n",
    "def sum_of_n_numbers(n)# Record the current time before the calculation.\n",
    "    start_time = time.time()\n",
    "\n",
    "    s = 0\n",
    "    for i in range(1, n + 1):\n",
    "        s = s + i\n",
    "\n",
    "    end_time = time.time()\n",
    "\n",
    "\n",
    "    return s, end_time - start_time\n",
    "n = 5\n",
    "print(\"\\nTime to sum of 1 to\", n, \"and required time to calculate is:\", sum_of_n_numbers(n))\n"
   ]
  },
  {
   "cell_type": "code",
   "execution_count": 7,
   "id": "75b5e8af",
   "metadata": {},
   "outputs": [
    {
     "name": "stdin",
     "output_type": "stream",
     "text": [
      "Input a number:  6\n"
     ]
    },
    {
     "name": "stdout",
     "output_type": "stream",
     "text": [
      "Sum of the first 6 positive integers: 21.0\n"
     ]
    }
   ],
   "source": [
    "# Prompt the user for input and convert it to an integer.\n",
    "n = int(input(\"Input a number: \"))\n",
    "\n",
    "sum_num = (n * (n + 1)) / 2\n",
    "print(\"Sum of the first\", n, \"positive integers:\", sum_num)\n"
   ]
  },
  {
   "cell_type": "code",
   "execution_count": 8,
   "id": "c9d175c9",
   "metadata": {},
   "outputs": [
    {
     "name": "stdout",
     "output_type": "stream",
     "text": [
      "Input your height: \n"
     ]
    },
    {
     "name": "stdin",
     "output_type": "stream",
     "text": [
      "Feet:  6\n",
      "Inches:  6\n"
     ]
    },
    {
     "name": "stdout",
     "output_type": "stream",
     "text": [
      "Your height is : 198 cm.\n"
     ]
    }
   ],
   "source": [
    "# Prompt the user to input their height.\n",
    "print(\"Input your height: \")\n",
    "\n",
    "h_ft = int(input(\"Feet: \"))\n",
    "\n",
    "h_inch = int(input(\"Inches: \"))\n",
    "\n",
    "h_inch += h_ft * 12\n",
    "\n",
    "h_cm = round(h_inch * 2.54, 1)\n",
    "\n",
    "# Print the calculated height in centimeters.\n",
    "print(\"Your height is : %d cm.\" % h_cm)\n"
   ]
  },
  {
   "cell_type": "code",
   "execution_count": 9,
   "id": "dddc451b",
   "metadata": {},
   "outputs": [
    {
     "name": "stdout",
     "output_type": "stream",
     "text": [
      "Input lengths of shorter triangle sides:\n"
     ]
    },
    {
     "name": "stdin",
     "output_type": "stream",
     "text": [
      "a:  8\n",
      "b:  9\n"
     ]
    },
    {
     "name": "stdout",
     "output_type": "stream",
     "text": [
      "The length of the hypotenuse is: 12.041594578792296\n"
     ]
    }
   ],
   "source": [
    "# Import the sqrt function from the math module to calculate the square root.\n",
    "from math import sqrt\n",
    "print(\"Input lengths of shorter triangle sides:\")\n",
    "\n",
    "a = float(input(\"a: \"))\n",
    "b = float(input(\"b: \"))\n",
    "c = sqrt(a**2 + b**2)\n",
    "\n",
    "# Print the calculated length of the hypotenuse.\n",
    "print(\"The length of the hypotenuse is:\", c)\n"
   ]
  },
  {
   "cell_type": "code",
   "execution_count": 10,
   "id": "e7b0bb18",
   "metadata": {},
   "outputs": [
    {
     "name": "stdin",
     "output_type": "stream",
     "text": [
      "Input distance in feet:  4\n"
     ]
    },
    {
     "name": "stdout",
     "output_type": "stream",
     "text": [
      "The distance in inches is 48 inches.\n",
      "The distance in yards is 1.33 yards.\n",
      "The distance in miles is 0.00 miles.\n"
     ]
    }
   ],
   "source": [
    "# Prompt the user to input a distance in feet and store it in the variable 'd_ft'.\n",
    "d_ft = int(input(\"Input distance in feet: \"))\n",
    "\n",
    "d_inches = d_ft * 12\n",
    "d_yards = d_ft / 3.0\n",
    "\n",
    "d_miles = d_ft / 5280.0\n",
    "\n",
    "print(\"The distance in inches is %i inches.\" % d_inches)\n",
    "print(\"The distance in yards is %.2f yards.\" % d_yards)\n",
    "print(\"The distance in miles is %.2f miles.\" % d_miles)\n"
   ]
  },
  {
   "cell_type": "code",
   "execution_count": 11,
   "id": "5d003def",
   "metadata": {},
   "outputs": [
    {
     "name": "stdin",
     "output_type": "stream",
     "text": [
      "Input days:  4\n",
      "Input hours:  4\n",
      "Input minutes:  4\n",
      "Input seconds:  4\n"
     ]
    },
    {
     "name": "stdout",
     "output_type": "stream",
     "text": [
      "The amount of seconds: 360244\n"
     ]
    }
   ],
   "source": [
    "\n",
    "days = int(input(\"Input days: \")) * 3600 * 24\n",
    "hours = int(input(\"Input hours: \")) * 3600\n",
    "minutes = int(input(\"Input minutes: \")) * 60\n",
    "seconds = int(input(\"Input seconds: \"))\n",
    "time = days + hours + minutes + seconds\n",
    "# Print the total time in seconds.\n",
    "print(\"The amount of seconds:\", time)\n"
   ]
  },
  {
   "cell_type": "code",
   "execution_count": 62,
   "id": "af574ec3",
   "metadata": {},
   "outputs": [
    {
     "name": "stdout",
     "output_type": "stream",
     "text": [
      "Last modified: Mon Feb  5 10:09:34 2024\n",
      "Created: Sun May 30 16:02:33 2021\n"
     ]
    }
   ],
   "source": [
    "# Import the 'os.path' and 'time' modules to work with file system paths and timestamps.\n",
    "import os.path, time\n",
    "print(\"Last modified: %s\" % time.ctime(os.path.getmtime(\"C:\\Program Files\")))\n",
    "print(\"Created: %s\" % time.ctime(os.path.getctime('C:\\Program Files')))\n"
   ]
  },
  {
   "cell_type": "code",
   "execution_count": 12,
   "id": "b2ace710",
   "metadata": {},
   "outputs": [
    {
     "name": "stdin",
     "output_type": "stream",
     "text": [
      "Input time in seconds:  7\n"
     ]
    },
    {
     "name": "stdout",
     "output_type": "stream",
     "text": [
      "d:h:m:s-> 0:0:0:7\n"
     ]
    }
   ],
   "source": [
    "# Prompt the user to input a time duration in seconds and convert it to a float.\n",
    "time = float(input(\"Input time in seconds: \"))\n",
    "day = time // (24 * 3600)\n",
    "time = time % (24 * 3600)\n",
    "\n",
    "hour = time // 3600\n",
    "time %= 3600\n",
    "\n",
    "minutes = time // 60\n",
    "time %= 60\n",
    "seconds = time\n",
    "print(\"d:h:m:s-> %d:%d:%d:%d\" % (day, hour, minutes, seconds))\n"
   ]
  },
  {
   "cell_type": "code",
   "execution_count": 13,
   "id": "d7124987",
   "metadata": {},
   "outputs": [
    {
     "name": "stdin",
     "output_type": "stream",
     "text": [
      "Input your height in Feet:  23\n",
      "Input your weight in Kilograms:  23\n"
     ]
    },
    {
     "name": "stdout",
     "output_type": "stream",
     "text": [
      "Your body mass index is:  0.04\n"
     ]
    }
   ],
   "source": [
    "# Prompt the user to input their height in feet and convert it to a floating-point number.\n",
    "height = float(input(\"Input your height in Feet: \"))\n",
    "\n",
    "weight = float(input(\"Input your weight in Kilograms: \"))\n",
    "\n",
    "bmi = weight / (height * height)\n",
    "rounded_bmi = round(bmi, 2)\n",
    "\n",
    "# Print the calculated BMI.\n",
    "print(\"Your body mass index is: \", rounded_bmi)\n"
   ]
  },
  {
   "cell_type": "code",
   "execution_count": 14,
   "id": "81d0e9c8",
   "metadata": {},
   "outputs": [
    {
     "name": "stdin",
     "output_type": "stream",
     "text": [
      "Input pressure in kilopascals:  23\n"
     ]
    },
    {
     "name": "stdout",
     "output_type": "stream",
     "text": [
      "The pressure in pounds per square inch: 3.34 psi\n",
      "The pressure in millimeters of mercury: 172.51 mmHg\n",
      "Atmosphere pressure: 0.23 atm.\n"
     ]
    }
   ],
   "source": [
    "# Prompt the user to input pressure in kilopascals and convert it to a floating-point number.\n",
    "kpa = float(input(\"Input pressure in kilopascals: \"))\n",
    "psi = kpa / 6.89475729\n",
    "\n",
    "mmhg = kpa * 760 / 101.325\n",
    "\n",
    "atm = kpa / 101.325\n",
    "\n",
    "print(\"The pressure in pounds per square inch: %.2f psi\"  % (psi))\n",
    "\n",
    "print(\"The pressure in millimeters of mercury: %.2f mmHg\" % (mmhg))\n",
    "\n",
    "print(\"Atmosphere pressure: %.2f atm.\" % (atm))\n"
   ]
  },
  {
   "cell_type": "code",
   "execution_count": 15,
   "id": "95d4db3f",
   "metadata": {},
   "outputs": [
    {
     "ename": "SyntaxError",
     "evalue": "invalid syntax (915787627.py, line 9)",
     "output_type": "error",
     "traceback": [
      "\u001b[1;36m  Cell \u001b[1;32mIn[15], line 9\u001b[1;36m\u001b[0m\n\u001b[1;33m    .\u001b[0m\n\u001b[1;37m    ^\u001b[0m\n\u001b[1;31mSyntaxError\u001b[0m\u001b[1;31m:\u001b[0m invalid syntax\n"
     ]
    }
   ],
   "source": [
    "# Prompt the user to input three integers and convert them to variables x, y, and z.\n",
    "x = int(input(\"Input first number: \"))\n",
    "y = int(input(\"Input second number: \"))\n",
    "z = int(input(\"Input third number: \"))\n",
    "\n",
    "a1 = min(x, y, z)\n",
    "\n",
    "a3 = max(x, y, z)\n",
    ".\n",
    "a2 = (x + y + z) - a1 - a3\n",
    "\n",
    "# Print the numbers in sorted order (a1, a2, a3).\n",
    "print(\"Numbers in sorted order: \", a1, a2, a3)\n"
   ]
  },
  {
   "cell_type": "code",
   "execution_count": 23,
   "id": "58c44cc9",
   "metadata": {},
   "outputs": [
    {
     "name": "stdout",
     "output_type": "stream",
     "text": [
      "\n"
     ]
    }
   ],
   "source": [
    "# Import the necessary libraries to work with file operations and globbing.\n",
    "import glob\n",
    "import os\n",
    "\n",
    "files = glob.glob(\"*.txt\")\n",
    "\n",
    "files.sort(key=os.path.getmtime)\n",
    "\n",
    "# Print the sorted list of file names, one per line.\n",
    "print(\"\\n\".join(files))\n"
   ]
  },
  {
   "cell_type": "code",
   "execution_count": 25,
   "id": "48d61347",
   "metadata": {},
   "outputs": [
    {
     "name": "stdout",
     "output_type": "stream",
     "text": [
      "['__doc__', '__loader__', '__name__', '__package__', '__spec__', 'acos', 'acosh', 'asin', 'asinh', 'atan', 'atan2', 'atanh', 'cbrt', 'ceil', 'comb', 'copysign', 'cos', 'cosh', 'degrees', 'dist', 'e', 'erf', 'erfc', 'exp', 'exp2', 'expm1', 'fabs', 'factorial', 'floor', 'fmod', 'frexp', 'fsum', 'gamma', 'gcd', 'hypot', 'inf', 'isclose', 'isfinite', 'isinf', 'isnan', 'isqrt', 'lcm', 'ldexp', 'lgamma', 'log', 'log10', 'log1p', 'log2', 'modf', 'nan', 'nextafter', 'perm', 'pi', 'pow', 'prod', 'radians', 'remainder', 'sin', 'sinh', 'sqrt', 'tan', 'tanh', 'tau', 'trunc', 'ulp']\n"
     ]
    }
   ],
   "source": [
    "# Imports the math module\n",
    "import math            \n",
    "math_ls = dir(math).\n",
    "print(math_ls)\n"
   ]
  },
  {
   "cell_type": "code",
   "execution_count": 16,
   "id": "a894c49e",
   "metadata": {},
   "outputs": [
    {
     "name": "stdout",
     "output_type": "stream",
     "text": [
      "\n",
      "Calculate the midpoint of a line :\n"
     ]
    },
    {
     "name": "stdin",
     "output_type": "stream",
     "text": [
      "The value of x (the first endpoint)  34\n",
      "The value of y (the first endpoint)  32\n",
      "The value of x (the first endpoint)  12\n",
      "The value of y (the first endpoint)  12\n"
     ]
    },
    {
     "name": "stdout",
     "output_type": "stream",
     "text": [
      "\n",
      "The midpoint of the line is :\n",
      "The midpoint's x value is:  23.0\n",
      "The midpoint's y value is:  22.0\n"
     ]
    }
   ],
   "source": [
    "# Print a message to inform the user that the program will calculate the midpoint of a line.\n",
    "print('\\nCalculate the midpoint of a line :')\n",
    "\n",
    "x1 = float(input('The value of x (the first endpoint) '))\n",
    "y1 = float(input('The value of y (the first endpoint) '))\n",
    "x2 = float(input('The value of x (the first endpoint) '))\n",
    "y2 = float(input('The value of y (the first endpoint) '))\n",
    "\n",
    "x_m_point = (x1 + x2)/2\n",
    "\n",
    "y_m_point = (y1 + y2)/2\n",
    "print();\n",
    "\n",
    "print(\"The midpoint of the line is :\")\n",
    "\n",
    "print( \"The midpoint's x value is: \", x_m_point)\n",
    "\n",
    "print( \"The midpoint's y value is: \", y_m_point)\n"
   ]
  },
  {
   "cell_type": "code",
   "execution_count": 27,
   "id": "e05e49f0",
   "metadata": {},
   "outputs": [
    {
     "name": "stdout",
     "output_type": "stream",
     "text": [
      "Input the word to be hashed: 3\n",
      "\n",
      "The coded word is: 3\n",
      "\n"
     ]
    }
   ],
   "source": [
    "# Create a list that maps characters to their Soundex codes.\n",
    "soundex = [0, 1, 2, 3, 0, 1, 2, 0, 0, 2, 2, 4, 5, 5, 0, 1, 2, 6, 2, 3, 0, 1, 0, 2, 0, 2]\n",
    "\n",
    "word = input(\"Input the word to be hashed: \")\n",
    "\n",
    "word = word.upper()\n",
    "\n",
    "for a in word[1:len(word)]:\n",
    "\n",
    "    i = 65 - ord(a)\n",
    "    coded = coded + str(soundex[i])\n",
    "\n",
    "print()\n",
    "\n",
    "print(\"The coded word is: \" + coded)\n",
    "\n",
    "\n",
    "print()\n"
   ]
  },
  {
   "cell_type": "code",
   "execution_count": 17,
   "id": "0d7acdc1",
   "metadata": {},
   "outputs": [
    {
     "name": "stdout",
     "output_type": "stream",
     "text": [
      "\n",
      "Python Copyright Information\n",
      "Copyright (c) 2001-2023 Python Software Foundation.\n",
      "All Rights Reserved.\n",
      "\n",
      "Copyright (c) 2000 BeOpen.com.\n",
      "All Rights Reserved.\n",
      "\n",
      "Copyright (c) 1995-2001 Corporation for National Research Initiatives.\n",
      "All Rights Reserved.\n",
      "\n",
      "Copyright (c) 1991-1995 Stichting Mathematisch Centrum, Amsterdam.\n",
      "All Rights Reserved.\n",
      "\n"
     ]
    }
   ],
   "source": [
    "# Import the sys module, which provides access to Python interpreter variables and functions.\n",
    "import sys\n",
    "\n",
    "print(\"\\nPython Copyright Information\")\n",
    "\n",
    "print(sys.copyright)\n",
    "\n",
    "\n",
    "print()\n"
   ]
  },
  {
   "cell_type": "code",
   "execution_count": 29,
   "id": "3ad0f614",
   "metadata": {},
   "outputs": [
    {
     "name": "stdout",
     "output_type": "stream",
     "text": [
      "This is the name/path of the script:\n",
      "Number of arguments: 3\n",
      "Argument List: ['C:\\\\ProgramData\\\\anaconda3\\\\Lib\\\\site-packages\\\\ipykernel_launcher.py', '-f', 'C:\\\\Users\\\\DELL\\\\AppData\\\\Roaming\\\\jupyter\\\\runtime\\\\kernel-55edfb06-8c35-416f-bd3e-81aab8003a0b.json']\n"
     ]
    }
   ],
   "source": [
    "# Import the sys module to access command-line arguments and other system-specific functionality.\n",
    "import sys\n",
    "\n",
    "print(\"This is the name/path of the script:\"), sys.argv[0]\n",
    "\n",
    "print(\"Number of arguments:\", len(sys.argv))\n",
    "\n",
    "print(\"Argument List:\", str(sys.argv))\n"
   ]
  },
  {
   "cell_type": "code",
   "execution_count": 30,
   "id": "11415cfa",
   "metadata": {},
   "outputs": [
    {
     "name": "stdout",
     "output_type": "stream",
     "text": [
      "\n",
      "Little-endian platform.\n",
      "\n"
     ]
    }
   ],
   "source": [
    "# Import the sys module to access system-specific information.\n",
    "import sys\n",
    "\n",
    "print()\n",
    "\n",
    "# Check if the byte order of the platform is \"little\" (e.g., Intel, Alpha) and display a corresponding message.\n",
    "if sys.byteorder == \"little\":\n",
    "    print(\"Little-endian platform.\")\n",
    "else:\n",
    "    # If the byte order is not \"little,\" assume it's \"big\" (e.g., Motorola, SPARC) and display a corresponding message.\n",
    "    print(\"Big-endian platform.\")\n",
    "\n",
    "# Display another blank line for clarity.\n",
    "print()\n"
   ]
  },
  {
   "cell_type": "code",
   "execution_count": 31,
   "id": "43f13cd6",
   "metadata": {},
   "outputs": [
    {
     "name": "stdout",
     "output_type": "stream",
     "text": [
      "_abc, _ast, _bisect, _blake2, _codecs, _codecs_cn, _codecs_hk,\n",
      "_codecs_iso2022, _codecs_jp, _codecs_kr, _codecs_tw, _collections,\n",
      "_contextvars, _csv, _datetime, _functools, _heapq, _imp, _io, _json,\n",
      "_locale, _lsprof, _md5, _multibytecodec, _opcode, _operator, _pickle,\n",
      "_random, _sha1, _sha256, _sha3, _sha512, _signal, _sre, _stat,\n",
      "_statistics, _string, _struct, _symtable, _thread, _tokenize,\n",
      "_tracemalloc, _typing, _warnings, _weakref, _winapi,\n",
      "_xxsubinterpreters, array, atexit, audioop, binascii, builtins, cmath,\n",
      "errno, faulthandler, gc, itertools, marshal, math, mmap, msvcrt, nt,\n",
      "sys, time, winreg, xxsubtype, zlib\n"
     ]
    }
   ],
   "source": [
    "# Import the sys module to access system-specific information.\n",
    "import sys\n",
    "\n",
    "import textwrap\n",
    "\n",
    "module_name = ', '.join(sorted(sys.builtin_module_names))\n",
    "\n",
    "print(textwrap.fill(module_name, width=70))\n"
   ]
  },
  {
   "cell_type": "code",
   "execution_count": 32,
   "id": "a420dc8f",
   "metadata": {},
   "outputs": [
    {
     "name": "stdout",
     "output_type": "stream",
     "text": [
      "Size of  one = 52 bytes\n",
      "Size of  four = 53 bytes\n",
      "Size of  three = 54 bytes\n",
      "Size of 0 = 28 bytes\n",
      "Size of 112 = 28 bytes\n",
      "Size of [1, 2, 3, 'Red', 'Black'] = 104  bytes\n",
      "Size of ('Red', [8, 4, 6], (1, 2, 3)) = 64  bytes\n",
      "Size of {'apple', 'orange', 'pear'} = 216  bytes\n",
      "Size of {'Name': 'David', 'Age': 6, 'Class': 'First'} = 216  bytes\n"
     ]
    }
   ],
   "source": [
    "import sys  # Import the sys module to use sys.getsizeof()\n",
    "\n",
    "# Define three strings and assign values to them\n",
    "str1 = \"one\"\n",
    "str2 = \"four\"\n",
    "str3 = \"three\"\n",
    "x = 0\n",
    "y = 112\n",
    "z = 122.56\n",
    "print(\"Size of \", str1, \"=\", str(sys.getsizeof(str1)) + \" bytes\")\n",
    "print(\"Size of \", str2, \"=\", str(sys.getsizeof(str2)) + \" bytes\")\n",
    "print(\"Size of \", str3, \"=\", str(sys.getsizeof(str3)) + \" bytes\")\n",
    "print(\"Size of\", x, \"=\", str(sys.getsizeof(x)) + \" bytes\")\n",
    "print(\"Size of\", y, \"=\", str(sys.getsizeof(y)) + \" bytes\")\n",
    "\n",
    "L = [1, 2, 3, 'Red', 'Black']\n",
    "\n",
    "print(\"Size of\", L, \"=\", sys.getsizeof(L), \" bytes\")\n",
    "\n",
    "# Define a tuple and assign values to it\n",
    "T = (\"Red\", [8, 4, 6], (1, 2, 3))\n",
    "\n",
    "# Print the size in bytes of the tuple\n",
    "print(\"Size of\", T, \"=\", sys.getsizeof(T), \" bytes\")\n",
    "\n",
    "# Define a set and assign values to it\n",
    "S = {'apple', 'orange', 'apple', 'pear'}\n",
    "\n",
    "# Print the size in bytes of the set\n",
    "print(\"Size of\", S, \"=\", sys.getsizeof(S), \" bytes\")\n",
    "\n",
    "# Define a dictionary and assign values to it\n",
    "D = {'Name': 'David', 'Age': 6, 'Class': 'First'}\n",
    "\n",
    "# Print the size in bytes of the dictionary\n",
    "print(\"Size of\", D, \"=\", sys.getsizeof(S), \" bytes\")\n"
   ]
  },
  {
   "cell_type": "code",
   "execution_count": 33,
   "id": "71523f1c",
   "metadata": {},
   "outputs": [
    {
     "name": "stdout",
     "output_type": "stream",
     "text": [
      "\n",
      "Current value of the recursion limit:\n",
      "3000\n",
      "\n"
     ]
    }
   ],
   "source": [
    "import sys  # Import the sys module to access system-related information\n",
    "\n",
    "print() \n",
    "print(\"Current value of the recursion limit:\")  # Display a message about the recursion limit\n",
    "print(sys.getrecursionlimit())  # Retrieve and print the current recursion limit\n",
    "print()  # Print a blank line for spacing\n"
   ]
  },
  {
   "cell_type": "code",
   "execution_count": 34,
   "id": "010d6bff",
   "metadata": {},
   "outputs": [
    {
     "name": "stdout",
     "output_type": "stream",
     "text": [
      "\n",
      "All Colors: Red-White-Black\n",
      "\n"
     ]
    }
   ],
   "source": [
    "list_of_colors = ['Red', 'White', 'Black']  # Create a list of colors containing three elements\n",
    "colors = '-'.join(list_of_colors)  \n",
    "print()  \n",
    "print(\"All Colors: \" + colors) \n",
    "print() \n"
   ]
  },
  {
   "cell_type": "code",
   "execution_count": 37,
   "id": "78e51314",
   "metadata": {},
   "outputs": [
    {
     "name": "stdout",
     "output_type": "stream",
     "text": [
      "Original string:\n",
      "The quick brown fox jumps over the lazy dog.\n",
      "Number of occurrences of 'o' in the said string:\n",
      "4\n"
     ]
    }
   ],
   "source": [
    "# Create a string 's' containing a sentence.\n",
    "s = \"The quick brown fox jumps over the lazy dog.\"\n",
    "\n",
    "print(\"Original string:\")\n",
    "\n",
    "print(s)\n",
    "\n",
    "print(\"Number of occurrences of 'o' in the said string:\")\n",
    "\n",
    "print(s.count(\"o\"))\n"
   ]
  },
  {
   "cell_type": "code",
   "execution_count": 38,
   "id": "a26e0fa3",
   "metadata": {},
   "outputs": [
    {
     "name": "stdout",
     "output_type": "stream",
     "text": [
      "It is a special file (socket, FIFO, device file)\n",
      "\n"
     ]
    }
   ],
   "source": [
    "# Import the 'os' module to access operating system functionalities.\n",
    "import os\n",
    "\n",
    "path = \"abc.txt\"\n",
    "\n",
    "\n",
    "if os.path.isdir(path):\n",
    "    print(\"\\nIt is a directory\")\n",
    "\n",
    "elif os.path.isfile(path):\n",
    "\n",
    "    print(\"\\nIt is a normal file\")\n",
    "\n",
    "else:\n",
    "\n",
    "    print(\"It is a special file (socket, FIFO, device file)\")\n",
    "\n",
    "print()\n"
   ]
  },
  {
   "cell_type": "code",
   "execution_count": 39,
   "id": "79a45443",
   "metadata": {},
   "outputs": [
    {
     "name": "stdout",
     "output_type": "stream",
     "text": [
      "\n",
      "97\n",
      "65\n",
      "49\n",
      "64\n",
      "\n"
     ]
    }
   ],
   "source": [
    "# Print a newline character for spacing.\n",
    "print()\n",
    "\n",
    "print(ord('a'))\n",
    "\n",
    "print(ord('A'))\n",
    "\n",
    "print(ord('1'))\n",
    "\n",
    "print(ord('@'))\n",
    "\n",
    "print()\n"
   ]
  },
  {
   "cell_type": "code",
   "execution_count": 41,
   "id": "f04bf073",
   "metadata": {},
   "outputs": [
    {
     "name": "stdout",
     "output_type": "stream",
     "text": [
      "30+20=50\n"
     ]
    }
   ],
   "source": [
    "# Define two variables, x and y, and assign values 30 and 20, respectively.\n",
    "x = 30\n",
    "y = 20\n",
    "print(\"{0}+{1}={2}\".format(x, y, x + y))\n"
   ]
  },
  {
   "cell_type": "code",
   "execution_count": 21,
   "id": "910ec1f3",
   "metadata": {},
   "outputs": [
    {
     "name": "stdin",
     "output_type": "stream",
     "text": [
      "Input a number:  8\n"
     ]
    },
    {
     "name": "stdout",
     "output_type": "stream",
     "text": [
      "\n"
     ]
    }
   ],
   "source": [
    "# Prompt the user to input a number and convert it to a floating-point value.\n",
    "n = float(input(\"Input a number: \"))\n",
    "\n",
    "if (n == 1):\n",
    "   print(\"First day of a Month!\")\n",
    "else:\n",
    "   print()\n"
   ]
  },
  {
   "cell_type": "code",
   "execution_count": 20,
   "id": "97ba30b5",
   "metadata": {},
   "outputs": [
    {
     "name": "stdout",
     "output_type": "stream",
     "text": [
      "\n",
      "Before swap a = 23 and b = 15\n",
      "\n",
      "After swaping a = 15 and b = 23\n"
     ]
    }
   ],
   "source": [
    "# Initialize two variables 'a' and 'b' with values 30 and 20, respectively.\n",
    "a = 23\n",
    "b = 15\n",
    "print(\"\\nBefore swap a = %d and b = %d\" %(a, b))\n",
    "a, b = b, a\n",
    "print(\"\\nAfter swaping a = %d and b = %d\" %(a, b))\n"
   ]
  },
  {
   "cell_type": "code",
   "execution_count": 47,
   "id": "9a6b556e",
   "metadata": {},
   "outputs": [
    {
     "name": "stdout",
     "output_type": "stream",
     "text": [
      "\n",
      "\\#{'}${\"}@/\n",
      "\\#{'}${\"}@/\n",
      "\\#{'}${\"}@/\n",
      "\\#{'}${\"}@/\n",
      "\\#{'}${\"}@/\n",
      "\\#{'}${\"}@/\n",
      "\n"
     ]
    }
   ],
   "source": [
    "# Print a string containing special characters without escaping.\n",
    "print()\n",
    "print(\"\\#{'}${\\\"}@/\")\n",
    "\n",
    "print(\"\\#{'}${\\\"}@/\")\n",
    "\n",
    "print(r\"\"\"\\#{'}${\"}@/\"\"\")\n",
    "\n",
    "print('\\#{\\'}${\"}@/')\n",
    "\n",
    "print('\\#{'\"'\"'}${\"}@/')\n",
    "\n",
    "print(r'''\\#{'}${\"}@/''')\n",
    "print()\n"
   ]
  },
  {
   "cell_type": "code",
   "execution_count": 19,
   "id": "e12fe5f9",
   "metadata": {},
   "outputs": [
    {
     "name": "stdout",
     "output_type": "stream",
     "text": [
      "\n",
      "Identity:  34\n",
      "\n",
      "Type:  <class 'int'>\n",
      "\n",
      "Value:  140709924642264\n"
     ]
    }
   ],
   "source": [
    "# Define a variable 'x' and assign the value 34 to it.\n",
    "x = 34\n",
    "\n",
    "print(\"\\nIdentity: \", x)\n",
    "\n",
    "print(\"\\nType: \", type(x))\n",
    "\n",
    "print(\"\\nValue: \", id(x))\n"
   ]
  },
  {
   "cell_type": "code",
   "execution_count": 49,
   "id": "842ddc06",
   "metadata": {},
   "outputs": [
    {
     "name": "stdout",
     "output_type": "stream",
     "text": [
      "\n",
      "Convert bytes of the said string to a list of integers:\n",
      "[65, 98, 99]\n",
      "\n"
     ]
    }
   ],
   "source": [
    "# Create a bytes object containing the bytes 'Abc'.\n",
    "x = b'Abc'\n",
    "\n",
    "print()\n",
    "\n",
    "print(\"Convert bytes of the said string to a list of integers:\")\n",
    "print(list(x))\n",
    "\n",
    "print()\n"
   ]
  },
  {
   "cell_type": "code",
   "execution_count": 51,
   "id": "afbdc6cb",
   "metadata": {},
   "outputs": [
    {
     "name": "stdout",
     "output_type": "stream",
     "text": [
      "Input a word or numbers: hello\n",
      "The input value is string.\n"
     ]
    }
   ],
   "source": [
    "\n",
    "text = input(\"Input a word or numbers: \")\n",
    "\n",
    "if text.isdigit():\n",
    "\n",
    "    print(\"The input value is numbers.\")\n",
    "else:\n",
    "    print(\"The input value is string.\")\n"
   ]
  },
  {
   "cell_type": "code",
   "execution_count": 52,
   "id": "f9110926",
   "metadata": {},
   "outputs": [
    {
     "name": "stdout",
     "output_type": "stream",
     "text": [
      "\n",
      "\n"
     ]
    },
    {
     "name": "stderr",
     "output_type": "stream",
     "text": [
      "  File \"<frozen runpy>\", line 198, in _run_module_as_main\n",
      "  File \"<frozen runpy>\", line 88, in _run_code\n",
      "  File \"C:\\ProgramData\\anaconda3\\Lib\\site-packages\\ipykernel_launcher.py\", line 17, in <module>\n",
      "    app.launch_new_instance()\n",
      "  File \"C:\\ProgramData\\anaconda3\\Lib\\site-packages\\traitlets\\config\\application.py\", line 992, in launch_instance\n",
      "    app.start()\n",
      "  File \"C:\\ProgramData\\anaconda3\\Lib\\site-packages\\ipykernel\\kernelapp.py\", line 736, in start\n",
      "    self.io_loop.start()\n",
      "  File \"C:\\ProgramData\\anaconda3\\Lib\\site-packages\\tornado\\platform\\asyncio.py\", line 195, in start\n",
      "    self.asyncio_loop.run_forever()\n",
      "  File \"C:\\ProgramData\\anaconda3\\Lib\\asyncio\\base_events.py\", line 607, in run_forever\n",
      "    self._run_once()\n",
      "  File \"C:\\ProgramData\\anaconda3\\Lib\\asyncio\\base_events.py\", line 1922, in _run_once\n",
      "    handle._run()\n",
      "  File \"C:\\ProgramData\\anaconda3\\Lib\\asyncio\\events.py\", line 80, in _run\n",
      "    self._context.run(self._callback, *self._args)\n",
      "  File \"C:\\ProgramData\\anaconda3\\Lib\\site-packages\\ipykernel\\kernelbase.py\", line 516, in dispatch_queue\n",
      "    await self.process_one()\n",
      "  File \"C:\\ProgramData\\anaconda3\\Lib\\site-packages\\ipykernel\\kernelbase.py\", line 505, in process_one\n",
      "    await dispatch(*args)\n",
      "  File \"C:\\ProgramData\\anaconda3\\Lib\\site-packages\\ipykernel\\kernelbase.py\", line 412, in dispatch_shell\n",
      "    await result\n",
      "  File \"C:\\ProgramData\\anaconda3\\Lib\\site-packages\\ipykernel\\kernelbase.py\", line 740, in execute_request\n",
      "    reply_content = await reply_content\n",
      "  File \"C:\\ProgramData\\anaconda3\\Lib\\site-packages\\ipykernel\\ipkernel.py\", line 422, in do_execute\n",
      "    res = shell.run_cell(\n",
      "  File \"C:\\ProgramData\\anaconda3\\Lib\\site-packages\\ipykernel\\zmqshell.py\", line 546, in run_cell\n",
      "    return super().run_cell(*args, **kwargs)\n",
      "  File \"C:\\ProgramData\\anaconda3\\Lib\\site-packages\\IPython\\core\\interactiveshell.py\", line 3024, in run_cell\n",
      "    result = self._run_cell(\n",
      "  File \"C:\\ProgramData\\anaconda3\\Lib\\site-packages\\IPython\\core\\interactiveshell.py\", line 3079, in _run_cell\n",
      "    result = runner(coro)\n",
      "  File \"C:\\ProgramData\\anaconda3\\Lib\\site-packages\\IPython\\core\\async_helpers.py\", line 129, in _pseudo_sync_runner\n",
      "    coro.send(None)\n",
      "  File \"C:\\ProgramData\\anaconda3\\Lib\\site-packages\\IPython\\core\\interactiveshell.py\", line 3284, in run_cell_async\n",
      "    has_raised = await self.run_ast_nodes(code_ast.body, cell_name,\n",
      "  File \"C:\\ProgramData\\anaconda3\\Lib\\site-packages\\IPython\\core\\interactiveshell.py\", line 3466, in run_ast_nodes\n",
      "    if await self.run_code(code, result, async_=asy):\n",
      "  File \"C:\\ProgramData\\anaconda3\\Lib\\site-packages\\IPython\\core\\interactiveshell.py\", line 3526, in run_code\n",
      "    exec(code_obj, self.user_global_ns, self.user_ns)\n",
      "  File \"C:\\Users\\DELL\\AppData\\Local\\Temp\\ipykernel_10744\\3008822871.py\", line 16, in <module>\n",
      "    f1()\n",
      "  File \"C:\\Users\\DELL\\AppData\\Local\\Temp\\ipykernel_10744\\3008822871.py\", line 9, in f1\n",
      "    return abc()\n",
      "  File \"C:\\Users\\DELL\\AppData\\Local\\Temp\\ipykernel_10744\\3008822871.py\", line 13, in abc\n",
      "    traceback.print_stack()\n"
     ]
    }
   ],
   "source": [
    " # Import the 'traceback' module.\n",
    "import traceback\n",
    "\n",
    "print()\n",
    "\n",
    "def f1():\n",
    "    return abc()\n",
    "\n",
    "def abc():\n",
    "    traceback.print_stack()\n",
    "\n",
    "f1()\n",
    "\n",
    "print()\n"
   ]
  },
  {
   "cell_type": "code",
   "execution_count": 54,
   "id": "5881ceaf",
   "metadata": {},
   "outputs": [
    {
     "name": "stdout",
     "output_type": "stream",
     "text": [
      "\n",
      "Wed Jun 26 20:36:55 2024\n",
      "\n"
     ]
    }
   ],
   "source": [
    "# Import the 'time' module to work with time-related functions.\n",
    "import time\n",
    "\n",
    "print()\n",
    "\n",
    "print(time.ctime())\n",
    "\n",
    "print()\n"
   ]
  },
  {
   "cell_type": "code",
   "execution_count": 18,
   "id": "1d04817d",
   "metadata": {},
   "outputs": [
    {
     "data": {
      "text/plain": [
       "1"
      ]
     },
     "execution_count": 18,
     "metadata": {},
     "output_type": "execute_result"
    }
   ],
   "source": [
    "# Import the 'os' and 'time' modules to work with system commands and time-related functions, respectively.\n",
    "\n",
    "import os\n",
    "import time\n",
    "\n",
    "os.system(\"ls\")\n",
    "\n",
    "\n",
    "time.sleep(2)\n",
    "\n",
    "os.system('clear')\n"
   ]
  },
  {
   "cell_type": "code",
   "execution_count": 1,
   "id": "d04799fa",
   "metadata": {},
   "outputs": [
    {
     "name": "stdout",
     "output_type": "stream",
     "text": [
      "Host name: DESKTOP-R4P89E3\n"
     ]
    }
   ],
   "source": [
    "# Import the 'platform' module to retrieve system-related information.\n",
    "import platform\n",
    "host_name = platform.uname()[1]\n",
    "\n",
    "# Print the host name to the console.\n",
    "print(\"Host name:\", host_name)\n"
   ]
  },
  {
   "cell_type": "code",
   "execution_count": null,
   "id": "b91f6df5",
   "metadata": {},
   "outputs": [],
   "source": []
  }
 ],
 "metadata": {
  "kernelspec": {
   "display_name": "Python 3 (ipykernel)",
   "language": "python",
   "name": "python3"
  },
  "language_info": {
   "codemirror_mode": {
    "name": "ipython",
    "version": 3
   },
   "file_extension": ".py",
   "mimetype": "text/x-python",
   "name": "python",
   "nbconvert_exporter": "python",
   "pygments_lexer": "ipython3",
   "version": "3.12.3"
  }
 },
 "nbformat": 4,
 "nbformat_minor": 5
}
