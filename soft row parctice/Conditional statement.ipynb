{
 "cells": [
  {
   "cell_type": "markdown",
   "id": "ca8ec332",
   "metadata": {},
   "source": [
    "# syntax\n",
    "    :-> set of rules \n",
    "    if codition True:\n",
    "        print(st)\n",
    "        \n",
    "    else:\n",
    "        print(st)"
   ]
  },
  {
   "cell_type": "code",
   "execution_count": 2,
   "id": "47b587e6",
   "metadata": {},
   "outputs": [
    {
     "name": "stdout",
     "output_type": "stream",
     "text": [
      "hello python\n"
     ]
    }
   ],
   "source": [
    "if True:\n",
    "    print('hello python')\n",
    "else:\n",
    "    print('hiii')"
   ]
  },
  {
   "cell_type": "code",
   "execution_count": 2,
   "id": "cd71ef4c",
   "metadata": {},
   "outputs": [
    {
     "name": "stdout",
     "output_type": "stream",
     "text": [
      "Enter your age :-> 193\n",
      "You are eligible to vote \n"
     ]
    }
   ],
   "source": [
    "\n",
    "age = int(input('Enter your age :-> '))\n",
    "# if user age is greater than 18\n",
    "if age >18:\n",
    "    print('You are eligible to vote ')\n",
    "    \n",
    "else:\n",
    "    print('You are not eligible to vote ')"
   ]
  },
  {
   "cell_type": "code",
   "execution_count": 9,
   "id": "b9ac28a7",
   "metadata": {},
   "outputs": [
    {
     "data": {
      "text/plain": [
       "0"
      ]
     },
     "execution_count": 9,
     "metadata": {},
     "output_type": "execute_result"
    }
   ],
   "source": [
    "50%2"
   ]
  },
  {
   "cell_type": "code",
   "execution_count": 10,
   "id": "cd62c80a",
   "metadata": {},
   "outputs": [
    {
     "data": {
      "text/plain": [
       "0"
      ]
     },
     "execution_count": 10,
     "metadata": {},
     "output_type": "execute_result"
    }
   ],
   "source": [
    "52%2"
   ]
  },
  {
   "cell_type": "code",
   "execution_count": 11,
   "id": "692db710",
   "metadata": {},
   "outputs": [
    {
     "data": {
      "text/plain": [
       "1"
      ]
     },
     "execution_count": 11,
     "metadata": {},
     "output_type": "execute_result"
    }
   ],
   "source": [
    "53%2"
   ]
  },
  {
   "cell_type": "markdown",
   "id": "33bcb37c",
   "metadata": {},
   "source": [
    "# operator \n",
    "    a+b --> + is operator \n",
    "            a,b is operands "
   ]
  },
  {
   "cell_type": "code",
   "execution_count": 19,
   "id": "20025617",
   "metadata": {},
   "outputs": [
    {
     "data": {
      "text/plain": [
       "129"
      ]
     },
     "execution_count": 19,
     "metadata": {},
     "output_type": "execute_result"
    }
   ],
   "source": [
    "110+19"
   ]
  },
  {
   "cell_type": "code",
   "execution_count": 20,
   "id": "48250c43",
   "metadata": {},
   "outputs": [
    {
     "name": "stdout",
     "output_type": "stream",
     "text": [
      "Enter a number :-> 18\n",
      "Enter b number :-> 5\n",
      "23\n",
      "13\n",
      "90\n",
      "3.6\n"
     ]
    }
   ],
   "source": [
    "a = int(input('Enter a number :-> '))\n",
    "b = int(input('Enter b number :-> '))\n",
    "\n",
    "add = a+b\n",
    "sub = a-b\n",
    "mul = a*b\n",
    "true = a/b\n",
    "\n",
    "\n",
    "print(add)\n",
    "print(sub)\n",
    "print(mul)\n",
    "print(true)"
   ]
  },
  {
   "cell_type": "code",
   "execution_count": 22,
   "id": "f87aa33a",
   "metadata": {},
   "outputs": [],
   "source": [
    "a = 11\n",
    "b = 4\n",
    "res = a%b #--> 11%4-->3"
   ]
  },
  {
   "cell_type": "code",
   "execution_count": 23,
   "id": "29658e0a",
   "metadata": {},
   "outputs": [
    {
     "name": "stdout",
     "output_type": "stream",
     "text": [
      "3\n"
     ]
    }
   ],
   "source": [
    "print(res)"
   ]
  },
  {
   "cell_type": "code",
   "execution_count": 24,
   "id": "c8b86bc8",
   "metadata": {},
   "outputs": [
    {
     "name": "stdout",
     "output_type": "stream",
     "text": [
      "3\n"
     ]
    }
   ],
   "source": [
    "a = 18\n",
    "b = 5\n",
    "res = a//b\n",
    "print(res)"
   ]
  },
  {
   "cell_type": "code",
   "execution_count": 25,
   "id": "0d4887b1",
   "metadata": {},
   "outputs": [
    {
     "data": {
      "text/plain": [
       "1.25"
      ]
     },
     "execution_count": 25,
     "metadata": {},
     "output_type": "execute_result"
    }
   ],
   "source": [
    "5/4"
   ]
  },
  {
   "cell_type": "code",
   "execution_count": 26,
   "id": "ba3d210b",
   "metadata": {},
   "outputs": [
    {
     "data": {
      "text/plain": [
       "1"
      ]
     },
     "execution_count": 26,
     "metadata": {},
     "output_type": "execute_result"
    }
   ],
   "source": [
    "5//4"
   ]
  },
  {
   "cell_type": "code",
   "execution_count": 27,
   "id": "5af064e1",
   "metadata": {},
   "outputs": [
    {
     "data": {
      "text/plain": [
       "16"
      ]
     },
     "execution_count": 27,
     "metadata": {},
     "output_type": "execute_result"
    }
   ],
   "source": [
    "2*2*2*2"
   ]
  },
  {
   "cell_type": "markdown",
   "id": "c3834c66",
   "metadata": {},
   "source": [
    "base**power"
   ]
  },
  {
   "cell_type": "code",
   "execution_count": 29,
   "id": "e527a7a7",
   "metadata": {},
   "outputs": [
    {
     "name": "stdout",
     "output_type": "stream",
     "text": [
      "16\n"
     ]
    }
   ],
   "source": [
    "base = 2\n",
    "power = 4\n",
    "res = base ** power\n",
    "print(res)"
   ]
  },
  {
   "cell_type": "code",
   "execution_count": null,
   "id": "1b09215b",
   "metadata": {},
   "outputs": [],
   "source": []
  }
 ],
 "metadata": {
  "kernelspec": {
   "display_name": "Python 3 (ipykernel)",
   "language": "python",
   "name": "python3"
  },
  "language_info": {
   "codemirror_mode": {
    "name": "ipython",
    "version": 3
   },
   "file_extension": ".py",
   "mimetype": "text/x-python",
   "name": "python",
   "nbconvert_exporter": "python",
   "pygments_lexer": "ipython3",
   "version": "3.12.3"
  }
 },
 "nbformat": 4,
 "nbformat_minor": 5
}
